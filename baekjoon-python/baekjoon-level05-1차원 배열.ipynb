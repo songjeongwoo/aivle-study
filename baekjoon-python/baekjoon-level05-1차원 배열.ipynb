{
 "cells": [
  {
   "cell_type": "markdown",
   "id": "86a4bb05",
   "metadata": {},
   "source": [
    "## 10818 최소, 최대\n",
    "N개의 정수가 주어진다. 이때, 최솟값과 최댓값을 구하는 프로그램을 작성하시오.\n",
    "### 입력\n",
    "- 첫째 줄에 정수의 개수 N (1 ≤ N ≤ 1,000,000)이 주어진다. 둘째 줄에는 N개의 정수를 공백으로 구분해서 주어진다. 모든 정수는 -1,000,000보다 크거나 같고, 1,000,000보다 작거나 같은 정수이다.\n",
    "### 출력\n",
    "- 첫째 줄에 주어진 정수 N개의 최솟값과 최댓값을 공백으로 구분해 출력한다.\n",
    "### 예제 입력 1\n",
    "- 5\n",
    "- 20 10 35 30 7\n",
    "### 예제 출력 1\n",
    "- 7 35"
   ]
  },
  {
   "cell_type": "code",
   "execution_count": 6,
   "id": "6680159f",
   "metadata": {},
   "outputs": [
    {
     "name": "stdout",
     "output_type": "stream",
     "text": [
      "5\n",
      "20 10 35 30 7\n",
      "7 35\n"
     ]
    }
   ],
   "source": [
    "n = int(input())\n",
    "list_n = input().split()   #split(arg): arg를 토큰으로 쪼개서 리스트를 만든다. arg 생략시 공백 기준\n",
    "max = int(list_n[0])\n",
    "min = int(list_n[0])\n",
    "\n",
    "for i in list_n:\n",
    "    if(max < int(i)):\n",
    "        max = int(i)\n",
    "        continue\n",
    "    \n",
    "    if(min > int(i)):\n",
    "        min = int(i)\n",
    "\n",
    "print(min, max)"
   ]
  },
  {
   "cell_type": "markdown",
   "id": "2ebefda4",
   "metadata": {},
   "source": [
    "## 2562 최댓값\n",
    "9개의 서로 다른 자연수가 주어질 때, 이들 중 최댓값을 찾고 그 최댓값이 몇 번째 수인지를 구하는 프로그램을 작성하시오.\n",
    "예를 들어, 서로 다른 9개의 자연수\n",
    "3, 29, 38, 12, 57, 74, 40, 85, 61\n",
    "이 주어지면, 이들 중 최댓값은 85이고, 이 값은 8번째 수이다.\n",
    "### 입력\n",
    "- 첫째 줄부터 아홉 번째 줄까지 한 줄에 하나의 자연수가 주어진다. 주어지는 자연수는 100 보다 작다.\n",
    "### 출력\n",
    "- 첫째 줄에 최댓값을 출력하고, 둘째 줄에 최댓값이 몇 번째 수인지를 출력한다.\n",
    "### 예제 입력 1\n",
    "- 3\n",
    "- 29\n",
    "- 38\n",
    "- 12\n",
    "- 57\n",
    "- 74\n",
    "- 40\n",
    "- 85\n",
    "- 61\n",
    "### 예제 출력 1\n",
    "- 85\n",
    "- 8"
   ]
  },
  {
   "cell_type": "code",
   "execution_count": 2,
   "id": "50f49014",
   "metadata": {},
   "outputs": [
    {
     "name": "stdout",
     "output_type": "stream",
     "text": [
      "3\n",
      "8\n",
      "5\n",
      "4\n",
      "9\n",
      "77\n",
      "1\n",
      "2\n",
      "6\n",
      "77\n",
      "6\n"
     ]
    }
   ],
   "source": [
    "list_n = []\n",
    "i = 0\n",
    "max_n = 0\n",
    "idx = 0\n",
    "\n",
    "while i < 9:\n",
    "    n = int(input())\n",
    "    list_n.append(n)\n",
    "    i += 1\n",
    "\n",
    "for i in range(len(list_n)):\n",
    "    if(max_n < list_n[i]):\n",
    "        max_n = list_n[i]\n",
    "        idx = i\n",
    "        \n",
    "print(max_n)\n",
    "print(idx + 1)"
   ]
  },
  {
   "cell_type": "markdown",
   "id": "ff209cfc",
   "metadata": {},
   "source": [
    "## 2577 숫자의 개수\n",
    "세 개의 자연수 A, B, C가 주어질 때 A × B × C를 계산한 결과에 0부터 9까지 각각의 숫자가 몇 번씩 쓰였는지를 구하는 프로그램을 작성하시오.\n",
    "예를 들어 A = 150, B = 266, C = 427 이라면 A × B × C = 150 × 266 × 427 = 17037300 이 되고, 계산한 결과 17037300 에는 0이 3번, 1이 1번, 3이 2번, 7이 2번 쓰였다.\n",
    "### 입력\n",
    "- 첫째 줄에 A, 둘째 줄에 B, 셋째 줄에 C가 주어진다. A, B, C는 모두 100보다 크거나 같고, 1,000보다 작은 자연수이다.\n",
    "### 출력\n",
    "- 첫째 줄에는 A × B × C의 결과에 0 이 몇 번 쓰였는지 출력한다. 마찬가지로 둘째 줄부터 열 번째 줄까지 A × B × C의 결과에 1부터 9까지의 숫자가 각각 몇 번 쓰였는지 차례로 한 줄에 하나씩 출력한다.\n",
    "### 예제 입력 1\n",
    "- 150\n",
    "- 266\n",
    "- 427\n",
    "### 예제 출력 1\n",
    "- 3\n",
    "- 1\n",
    "- 0\n",
    "- 2\n",
    "- 0\n",
    "- 0\n",
    "- 0\n",
    "- 2\n",
    "- 0\n",
    "- 0"
   ]
  },
  {
   "cell_type": "code",
   "execution_count": 3,
   "id": "c5ba9298",
   "metadata": {},
   "outputs": [
    {
     "name": "stdout",
     "output_type": "stream",
     "text": [
      "5\n",
      "8\n",
      "4\n",
      "1\n",
      "1\n",
      "0\n",
      "0\n",
      "0\n",
      "0\n",
      "1\n",
      "0\n",
      "0\n",
      "0\n"
     ]
    },
    {
     "data": {
      "text/plain": [
       "'\\nQ1. int가 단순히 데이터 타입을 알려주는 게 아니라 int타입으로 바꿔주면서 단독으로 쓰이는 function인가요 ?\\nA1. map() 함수는 각각의 반복되는 요소를 계산하는 이터래터를 만듭니다.\\n그래서 int 는 타입이 아니라 각각의 반복되는 요소를 정수형을 변환하는 객체로 사용되는 것 입니다. 암묵적으로 각각의 요소를 넣어준다고 보면 됩니다.\\n\\nQ2. Q1에 대한 대답이 맞다면, str등도 동일한 건가요 ?!\\nA2. str 도 역시 동일하고 `help(str), help(int)` 명령어를 통해 객체의 정의를 살펴보시면 해당 객체를 이해하는데 도움이 되실 것 같습니다.\\n\\nQ3. split 메서드에 인자를 넣으면 그 인자 기준으로 구분 짓고 아닐 경우 공백으로 구분 지어서 리스트를 리턴한다고 알고 있습니다.\\n리스트로 리턴 되기 때문에 map메서드에서 iterable 인자 자리에 input.split()로 쓸 수 있는 게 맞을까요 ?\\n\\nA3. split() 의 리턴은 리스트를 반환합니다.\\n리스트는 반복자(iterable) 형입니다. map 함수의 인자의 첫번째는 함수이고 두번째는 iterable 한 오브젝트가 오면 되고 내부적으로 next() 매서드를 이용해서 리스트를 순환합니다. split() 반환형이 리스트이기 때문에 가능합니다.\\n'"
      ]
     },
     "execution_count": 3,
     "metadata": {},
     "output_type": "execute_result"
    }
   ],
   "source": [
    "i = 0\n",
    "list_n = []\n",
    "\n",
    "while i < 3:\n",
    "    n = int(input())\n",
    "    list_n.append(n)\n",
    "    i += 1\n",
    "\n",
    "#map(function, iterable)\n",
    "#map(함수, 반복가능한 객체), map객체로 리턴   # ex) 리스트, 튜플 등\n",
    "list_mul_n = list(map(int, str(list_n[0] * list_n[1] * list_n[2])))\n",
    "\n",
    "for i in range(10):\n",
    "    result = 0\n",
    "    for j in list_mul_n:\n",
    "        if(i == j):\n",
    "            result += 1\n",
    "    print(result)\n",
    "\n",
    "'''\n",
    "Q1. int가 단순히 데이터 타입을 알려주는 게 아니라 int타입으로 바꿔주면서 단독으로 쓰이는 function인가요 ?\n",
    "A1. map() 함수는 각각의 반복되는 요소를 계산하는 이터래터를 만듭니다.\n",
    "그래서 int 는 타입이 아니라 각각의 반복되는 요소를 정수형을 변환하는 객체로 사용되는 것 입니다. 암묵적으로 각각의 요소를 넣어준다고 보면 됩니다.\n",
    "\n",
    "Q2. Q1에 대한 대답이 맞다면, str등도 동일한 건가요 ?!\n",
    "A2. str 도 역시 동일하고 `help(str), help(int)` 명령어를 통해 객체의 정의를 살펴보시면 해당 객체를 이해하는데 도움이 되실 것 같습니다.\n",
    "\n",
    "Q3. split 메서드에 인자를 넣으면 그 인자 기준으로 구분 짓고 아닐 경우 공백으로 구분 지어서 리스트를 리턴한다고 알고 있습니다.\n",
    "리스트로 리턴 되기 때문에 map메서드에서 iterable 인자 자리에 input.split()로 쓸 수 있는 게 맞을까요 ?\n",
    "\n",
    "A3. split() 의 리턴은 리스트를 반환합니다.\n",
    "리스트는 반복자(iterable) 형입니다. map 함수의 인자의 첫번째는 함수이고 두번째는 iterable 한 오브젝트가 오면 되고 내부적으로 next() 매서드를 이용해서 리스트를 순환합니다. split() 반환형이 리스트이기 때문에 가능합니다.\n",
    "'''"
   ]
  },
  {
   "cell_type": "markdown",
   "id": "877441f5",
   "metadata": {},
   "source": [
    "## 3052 나머지\n",
    "두 자연수 A와 B가 있을 때, A%B는 A를 B로 나눈 나머지 이다. 예를 들어, 7, 14, 27, 38을 3으로 나눈 나머지는 1, 2, 0, 2이다. \n",
    "수 10개를 입력받은 뒤, 이를 42로 나눈 나머지를 구한다. 그 다음 서로 다른 값이 몇 개 있는지 출력하는 프로그램을 작성하시오.\n",
    "### 입력\n",
    "- 첫째 줄부터 열번째 줄 까지 숫자가 한 줄에 하나씩 주어진다. 이 숫자는 1,000보다 작거나 같고, 음이 아닌 정수이다.\n",
    "### 출력\n",
    "- 첫째 줄에, 42로 나누었을 때, 서로 다른 나머지가 몇 개 있는지 출력한다.\n",
    "### 예제 입력 1\n",
    "- 1\n",
    "- 2\n",
    "- 3\n",
    "- 4\n",
    "- 5\n",
    "- 6\n",
    "- 7\n",
    "- 8\n",
    "- 9\n",
    "- 10\n",
    "### 예제 출력 1\n",
    "- 10"
   ]
  },
  {
   "cell_type": "code",
   "execution_count": 4,
   "id": "b290b6eb",
   "metadata": {},
   "outputs": [
    {
     "name": "stdout",
     "output_type": "stream",
     "text": [
      "42\n",
      "84\n",
      "252\n",
      "420\n",
      "840\n",
      "42\n",
      "84\n",
      "420\n",
      "126\n",
      "1\n",
      "2\n"
     ]
    }
   ],
   "source": [
    "i = 0\n",
    "list_n = []\n",
    "list_t = []\n",
    "\n",
    "while i < 10:\n",
    "    n = int(input())\n",
    "    list_n.append(n)\n",
    "    i += 1\n",
    "    \n",
    "for i in list_n:\n",
    "    list_t.append(i % 42)\n",
    "\n",
    "list_t = set(list_t)   #set은 집합 자료형으로서 중복허용X, 순서X\n",
    "        \n",
    "print(len(list_t))    "
   ]
  },
  {
   "cell_type": "markdown",
   "id": "5884b7ac",
   "metadata": {},
   "source": [
    "## 1546 평균\n",
    "세준이는 기말고사를 망쳤다. 세준이는 점수를 조작해서 집에 가져가기로 했다. 일단 세준이는 자기 점수 중에 최댓값을 골랐다. 이 값을 M이라고 한다. 그리고 나서 모든 점수를 점수/M*100으로 고쳤다.\n",
    "예를 들어, 세준이의 최고점이 70이고, 수학점수가 50이었으면 수학점수는 50/70*100이 되어 71.43점이 된다.\n",
    "세준이의 성적을 위의 방법대로 새로 계산했을 때, 새로운 평균을 구하는 프로그램을 작성하시오.\n",
    "### 입력\n",
    "- 첫째 줄에 시험 본 과목의 개수 N이 주어진다. 이 값은 1000보다 작거나 같다. 둘째 줄에 세준이의 현재 성적이 주어진다. 이 값은 100보다 작거나 같은 음이 아닌 정수이고, 적어도 하나의 값은 0보다 크다.\n",
    "### 출력\n",
    "- 첫째 줄에 새로운 평균을 출력한다. 실제 정답과 출력값의 절대오차 또는 상대오차가 10-2 이하이면 정답이다.\n",
    "### 예제 입력 1\n",
    "- 3\n",
    "- 40 80 60\n",
    "### 예제 출력 1\n",
    "- 75.0\n",
    "### 예제 입력 2\n",
    "- 3\n",
    "- 10 20 30\n",
    "### 예제 출력 2\n",
    "- 66.666667"
   ]
  },
  {
   "cell_type": "code",
   "execution_count": 5,
   "id": "24201494",
   "metadata": {},
   "outputs": [
    {
     "name": "stdout",
     "output_type": "stream",
     "text": [
      "4\n",
      "10 20 0 100\n",
      "32.5\n"
     ]
    }
   ],
   "source": [
    "n = int(input())\n",
    "list_score = list(map(int, input().split())) # ★★★\n",
    "\n",
    "m = list_score[0]\n",
    "summ = 0\n",
    "avg = 0\n",
    "      \n",
    "for i in range(1, len(list_score)):\n",
    "    if list_score[i] > m:\n",
    "        m = list_score[i]\n",
    "\n",
    "for i in range(len(list_score)):\n",
    "    list_score[i] = list_score[i] / m * 100\n",
    "    \n",
    "for i in range(len(list_score)):\n",
    "    summ += list_score[i]\n",
    "    \n",
    "avg = summ/len(list_score)\n",
    "    \n",
    "print(round(avg, 7))"
   ]
  },
  {
   "cell_type": "markdown",
   "id": "88647ac5",
   "metadata": {},
   "source": [
    "## 8958 OX퀴즈\n",
    "\"OOXXOXXOOO\"와 같은 OX퀴즈의 결과가 있다. O는 문제를 맞은 것이고, X는 문제를 틀린 것이다. 문제를 맞은 경우 그 문제의 점수는 그 문제까지 연속된 O의 개수가 된다. 예를 들어, 10번 문제의 점수는 3이 된다.\n",
    "\"OOXXOXXOOO\"의 점수는 1+2+0+0+1+0+0+1+2+3 = 10점이다.\n",
    "OX퀴즈의 결과가 주어졌을 때, 점수를 구하는 프로그램을 작성하시오.\n",
    "### 입력\n",
    "- 첫째 줄에 테스트 케이스의 개수가 주어진다. 각 테스트 케이스는 한 줄로 이루어져 있고, 길이가 0보다 크고 80보다 작은 문자열이 주어진다. 문자열은 O와 X만으로 이루어져 있다.\n",
    "### 출력\n",
    "- 각 테스트 케이스마다 점수를 출력한다. \n",
    "### 예제 입력 1\n",
    "- 5\n",
    "- OOXXOXXOOO\n",
    "- OOXXOOXXOO\n",
    "- OXOXOXOXOXOXOX\n",
    "- OOOOOOOOOO\n",
    "- OOOOXOOOOXOOOOX\n",
    "### 예제 출력 1\n",
    "- 10\n",
    "- 9\n",
    "- 7\n",
    "- 55\n",
    "- 30"
   ]
  },
  {
   "cell_type": "code",
   "execution_count": 5,
   "id": "f1d303b2",
   "metadata": {},
   "outputs": [
    {
     "name": "stdout",
     "output_type": "stream",
     "text": [
      "5\n",
      "OOXXOXXOOO\n",
      "10\n",
      "OOXXOOXXOO\n",
      "9\n",
      "OXOXOXOXOXOXOX\n",
      "7\n",
      "OOOOOOOOOO\n",
      "55\n",
      "OOOOXOOOOXOOOOX\n",
      "30\n"
     ]
    }
   ],
   "source": [
    "n = int(input())\n",
    "i = 0\n",
    "while i < 5:\n",
    "    s = input()\n",
    "    summ = 0\n",
    "    cnt = 0\n",
    "    for j in s:\n",
    "        if j == 'O':\n",
    "            cnt += 1\n",
    "            summ += cnt\n",
    "        else:\n",
    "            cnt = 0\n",
    "    print(summ)\n",
    "    i += 1"
   ]
  },
  {
   "cell_type": "markdown",
   "id": "c9610d7c",
   "metadata": {},
   "source": [
    "## 4344 평균은 넘겠지\n",
    "대학생 새내기들의 90%는 자신이 반에서 평균은 넘는다고 생각한다. 당신은 그들에게 슬픈 진실을 알려줘야 한다.\n",
    "### 입력\n",
    "- 첫째 줄에는 테스트 케이스의 개수 C가 주어진다.\n",
    "- 둘째 줄부터 각 테스트 케이스마다 학생의 수 N(1 ≤ N ≤ 1000, N은 정수)이 첫 수로 주어지고, 이어서 N명의 점수가 주어진다. 점수는 0보다 크거나 같고, 100보다 작거나 같은 정수이다.\n",
    "### 출력\n",
    "- 각 케이스마다 한 줄씩 평균을 넘는 학생들의 비율을 반올림하여 소수점 셋째 자리까지 출력한다.\n",
    "### 예제 입력 1\n",
    "- 5\n",
    "- 5 50 50 70 80 100\n",
    "- 7 100 95 90 80 70 60 50\n",
    "- 3 70 90 80\n",
    "- 3 70 90 81\n",
    "- 9 100 99 98 97 96 95 94 93 91\n",
    "### 예제 출력 1\n",
    "- 40.000%\n",
    "- 57.143%\n",
    "- 33.333%\n",
    "- 66.667%\n",
    "- 55.556%"
   ]
  },
  {
   "cell_type": "code",
   "execution_count": 23,
   "id": "483fb8a9",
   "metadata": {},
   "outputs": [
    {
     "name": "stdout",
     "output_type": "stream",
     "text": [
      "1\n",
      "5 50 50 70 80 100\n",
      "40.000%\n"
     ]
    }
   ],
   "source": [
    "c = int(input())\n",
    "i = 0\n",
    "\n",
    "while i < c:\n",
    "    avg = 0\n",
    "    cnt = 0\n",
    "    result = 0\n",
    "    t = list(map(int, input().split()))\n",
    "    avg = round(((sum(t[1:])) / t[0]), 3)\n",
    "    for j, v in enumerate(t):\n",
    "        if j > 0 and v > avg:\n",
    "            cnt += 1\n",
    "    result = format((cnt / t[0]) * 100, \".3f\")   #format(): 소수점 자리수 조절\n",
    "    print(result, '%', sep='')\n",
    "    i += 1"
   ]
  },
  {
   "cell_type": "markdown",
   "id": "dbbacda8",
   "metadata": {},
   "source": []
  },
  {
   "cell_type": "code",
   "execution_count": null,
   "id": "2abdde01",
   "metadata": {},
   "outputs": [],
   "source": []
  }
 ],
 "metadata": {
  "kernelspec": {
   "display_name": "Python 3",
   "language": "python",
   "name": "python3"
  },
  "language_info": {
   "codemirror_mode": {
    "name": "ipython",
    "version": 3
   },
   "file_extension": ".py",
   "mimetype": "text/x-python",
   "name": "python",
   "nbconvert_exporter": "python",
   "pygments_lexer": "ipython3",
   "version": "3.8.8"
  }
 },
 "nbformat": 4,
 "nbformat_minor": 5
}
