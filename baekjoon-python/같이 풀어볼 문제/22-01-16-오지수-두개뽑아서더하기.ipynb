{
 "cells": [
  {
   "cell_type": "code",
   "execution_count": null,
   "id": "63f47aab",
   "metadata": {},
   "outputs": [],
   "source": [
    "def solution(a):\n",
    "    li=[]\n",
    "    for i in range(len(a)):\n",
    "        for j in a[i+1:]:\n",
    "            li.append(a[i]+j)\n",
    "    li=set(li)\n",
    "    li=list(li)\n",
    "    li.sort()\n",
    "    return li"
   ]
  }
 ],
 "metadata": {
  "kernelspec": {
   "display_name": "Python 3",
   "language": "python",
   "name": "python3"
  },
  "language_info": {
   "codemirror_mode": {
    "name": "ipython",
    "version": 3
   },
   "file_extension": ".py",
   "mimetype": "text/x-python",
   "name": "python",
   "nbconvert_exporter": "python",
   "pygments_lexer": "ipython3",
   "version": "3.8.8"
  }
 },
 "nbformat": 4,
 "nbformat_minor": 5
}
