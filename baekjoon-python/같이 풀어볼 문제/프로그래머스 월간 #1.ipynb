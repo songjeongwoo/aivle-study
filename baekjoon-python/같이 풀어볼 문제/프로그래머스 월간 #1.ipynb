{
 "cells": [
  {
   "cell_type": "code",
   "execution_count": 1,
   "id": "9effaf96",
   "metadata": {},
   "outputs": [],
   "source": [
    "#내적\n",
    "def solution(a, b):\n",
    "    sum=0\n",
    "    for i in range(len(a)):\n",
    "        sum+=a[i]*b[i]\n",
    "    return sum"
   ]
  },
  {
   "cell_type": "code",
   "execution_count": 3,
   "id": "618c507f",
   "metadata": {},
   "outputs": [
    {
     "name": "stdout",
     "output_type": "stream",
     "text": [
      "7\n"
     ]
    }
   ],
   "source": [
    "#3진법 뒤집기\n",
    "\n",
    "\n",
    "def solution(a):\n",
    "    li=[]\n",
    "    sum=0\n",
    "    while a>0:\n",
    "        a,n = divmod(a,3)\n",
    "        li.append(str(n))\n",
    "    jin3= ''.join(li)\n",
    "    jin3= jin3[::-1]\n",
    "    for i in range(len(jin3)):\n",
    "        s1=(3**i)*int(jin3[i])\n",
    "        sum+=s1\n",
    "    return sum\n",
    "\n",
    "solution(45)\n",
    "\n",
    "#틀렷다 나오는데..이유가 뭘까요?"
   ]
  },
  {
   "cell_type": "code",
   "execution_count": null,
   "id": "04f4fc0e",
   "metadata": {},
   "outputs": [],
   "source": [
    "def solution(n):\n",
    "    answer = ''\n",
    "\n",
    "    while n > 0:\n",
    "        n, re = divmod(n,3)\t# n을 3으로 나눈 몫과 나머지\n",
    "        answer += str(re)\n",
    "    return int(answer, 3) \n",
    "# int(x, base) : base 진법으로 구성된 str 형식의 수를 10진법으로 변환해 줌\n",
    "#답지 찾아봤는데 여기서 맨 마지막 줄 뜻 좀 알려주실 분.. 찾아봐도 이해가 안돼요.."
   ]
  },
  {
   "cell_type": "code",
   "execution_count": null,
   "id": "328f52fd",
   "metadata": {},
   "outputs": [],
   "source": [
    "#두 개 뽑아서 더하기 (이거 왜 틀려..?)\n",
    "def solution(a):\n",
    "    li=[]\n",
    "    for i in range(len(a)):\n",
    "        for j in a[i+1:]:\n",
    "            li.append(a[i]+j)\n",
    "    li.sort()\n",
    "    li=set(li)\n",
    "    li=list(li)\n",
    "    return li\n",
    "\n",
    "def solution(numbers):\n",
    "    li=[]\n",
    "    for i in range(len(numbers)):\n",
    "        for j in numbers[i+1:]:\n",
    "            li.append(numbers[i]+j)\n",
    "    li.sort()\n",
    "    li=set(li)\n",
    "    li=list(li)\n",
    "    return li"
   ]
  },
  {
   "cell_type": "code",
   "execution_count": 47,
   "id": "92fdec82",
   "metadata": {},
   "outputs": [
    {
     "name": "stdout",
     "output_type": "stream",
     "text": [
      "{2, 5, 7, 9, 12}\n"
     ]
    }
   ],
   "source": [
    "a=[5,0,2,7]\n",
    "li=[]\n",
    "for i in range(len(a)):\n",
    "    for j in a[i+1:]:\n",
    "        li.append(a[i]+j)\n",
    "li.sort()\n",
    "li=set(li)\n",
    "print(li)\n",
    "\n"
   ]
  },
  {
   "cell_type": "code",
   "execution_count": 36,
   "id": "b3ad5990",
   "metadata": {},
   "outputs": [
    {
     "name": "stdout",
     "output_type": "stream",
     "text": [
      "2\n",
      "3\n",
      "4\n",
      "5\n",
      "1\n"
     ]
    }
   ],
   "source": [
    "#     print(a[i+1])\n",
    "#     for j in a[i+1:]:\n",
    "#         print(j)\n",
    "#         li.append(j*i)\n",
    "#     print(li)\n",
    "# li.sort()\n",
    "# li=set(li)\n",
    "# print(li)\n",
    "        "
   ]
  },
  {
   "cell_type": "code",
   "execution_count": null,
   "id": "e970c50f",
   "metadata": {},
   "outputs": [],
   "source": []
  }
 ],
 "metadata": {
  "kernelspec": {
   "display_name": "Python 3",
   "language": "python",
   "name": "python3"
  },
  "language_info": {
   "codemirror_mode": {
    "name": "ipython",
    "version": 3
   },
   "file_extension": ".py",
   "mimetype": "text/x-python",
   "name": "python",
   "nbconvert_exporter": "python",
   "pygments_lexer": "ipython3",
   "version": "3.8.8"
  }
 },
 "nbformat": 4,
 "nbformat_minor": 5
}
