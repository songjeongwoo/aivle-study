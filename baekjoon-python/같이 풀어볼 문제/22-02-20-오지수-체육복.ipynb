{
 "cells": [
  {
   "cell_type": "code",
   "execution_count": null,
   "id": "ff85e540",
   "metadata": {},
   "outputs": [],
   "source": [
    "# 매우 비효율적이지만 성공한 풀이\n",
    "\n",
    "def solution(n, lost, reserve):\n",
    "    lost2=[x for x in lost if x not in reserve] #체육복x 여분x\n",
    "    reserve2=[x for x in reserve if x not in lost] #여분 ㅇ\n",
    "    answer= n-len(lost2) # 전체학생수 - 체육복 x(여분x) = 체육복이 있는 사람\n",
    "    for i in lost2:\n",
    "        if (i-1) in reserve2: # 체육복의 여분이 없는 학생의 앞번호가 체육복을 빌려주는 경우\n",
    "            answer+=1\n",
    "            reserve2.remove(i-1)\n",
    "            # lost2.remove(i)\n",
    "        elif (i+1) in reserve2:  # 체육복의 여분이 있는 학생의 뒷번호가 체육복을 빌려주는 경우\n",
    "            answer+=1\n",
    "            reserve2.remove(i+1)\n",
    "            # lost2.remove(i)\n",
    "        answer1=answer\n",
    "        \n",
    "    lost3=[x for x in lost if x not in reserve] #체육복x 여분x\n",
    "    reserve3=[x for x in reserve if x not in lost] #여분 ㅇ\n",
    "    lost3.sort(reverse=False)\n",
    "    reserve3.sort(reverse=False)\n",
    "    answer2= n-len(lost3) # 전체학생수 - 체육복 x(여분x) = 체육복이 있는 사람\n",
    "    for i in lost3:\n",
    "        if (i+1) in reserve3:  # 체육복의 여분이 있는 학생의 뒷번호가 체육복을 빌려주는 경우\n",
    "            answer2+=1\n",
    "            reserve3.remove(i+1)\n",
    "            # lost2.remove(i)\n",
    "        elif (i-1) in reserve3: # 체육복의 여분이 없는 학생의 앞번호가 체육복을 빌려주는 경우\n",
    "            answer2+=1\n",
    "            reserve3.remove(i-1)\n",
    "            # lost2.remove(i)\n",
    "        answer=max(answer1,answer2)\n",
    "    return answer\n"
   ]
  },
  {
   "cell_type": "code",
   "execution_count": null,
   "id": "77e1186c",
   "metadata": {},
   "outputs": [],
   "source": []
  }
 ],
 "metadata": {
  "kernelspec": {
   "display_name": "Python 3",
   "language": "python",
   "name": "python3"
  },
  "language_info": {
   "codemirror_mode": {
    "name": "ipython",
    "version": 3
   },
   "file_extension": ".py",
   "mimetype": "text/x-python",
   "name": "python",
   "nbconvert_exporter": "python",
   "pygments_lexer": "ipython3",
   "version": "3.8.8"
  }
 },
 "nbformat": 4,
 "nbformat_minor": 5
}
