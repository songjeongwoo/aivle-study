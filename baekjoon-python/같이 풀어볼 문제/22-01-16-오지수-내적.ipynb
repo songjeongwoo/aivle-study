{
 "cells": [
  {
   "cell_type": "code",
   "execution_count": null,
   "id": "f994c203",
   "metadata": {},
   "outputs": [],
   "source": [
    "#내적\n",
    "def solution(a, b):\n",
    "    sum=0\n",
    "    for i in range(len(a)):\n",
    "        sum+=a[i]*b[i]\n",
    "    return sum"
   ]
  }
 ],
 "metadata": {
  "kernelspec": {
   "display_name": "Python 3",
   "language": "python",
   "name": "python3"
  },
  "language_info": {
   "codemirror_mode": {
    "name": "ipython",
    "version": 3
   },
   "file_extension": ".py",
   "mimetype": "text/x-python",
   "name": "python",
   "nbconvert_exporter": "python",
   "pygments_lexer": "ipython3",
   "version": "3.8.8"
  }
 },
 "nbformat": 4,
 "nbformat_minor": 5
}
