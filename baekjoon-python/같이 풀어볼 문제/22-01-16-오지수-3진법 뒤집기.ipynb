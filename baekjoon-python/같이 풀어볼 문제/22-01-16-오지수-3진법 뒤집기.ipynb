{
 "cells": [
  {
   "cell_type": "code",
   "execution_count": null,
   "id": "3cc66a50",
   "metadata": {},
   "outputs": [],
   "source": [
    "#3진법 뒤집기\n",
    "\n",
    "\n",
    "def solution(a):\n",
    "    li=[]\n",
    "    sum=0\n",
    "    while a>0:\n",
    "        a,n = divmod(a,3)\n",
    "        li.append(str(n))\n",
    "    jin3= ''.join(li)\n",
    "    jin3= jin3[::-1]\n",
    "    for i in range(len(jin3)):\n",
    "        s1=(3**i)*int(jin3[i])\n",
    "        sum+=s1\n",
    "    return sum"
   ]
  }
 ],
 "metadata": {
  "kernelspec": {
   "display_name": "Python 3",
   "language": "python",
   "name": "python3"
  },
  "language_info": {
   "codemirror_mode": {
    "name": "ipython",
    "version": 3
   },
   "file_extension": ".py",
   "mimetype": "text/x-python",
   "name": "python",
   "nbconvert_exporter": "python",
   "pygments_lexer": "ipython3",
   "version": "3.8.8"
  }
 },
 "nbformat": 4,
 "nbformat_minor": 5
}
