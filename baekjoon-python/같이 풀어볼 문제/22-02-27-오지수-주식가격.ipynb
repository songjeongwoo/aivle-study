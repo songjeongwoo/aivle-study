{
 "cells": [
  {
   "cell_type": "code",
   "execution_count": null,
   "id": "f400d996",
   "metadata": {},
   "outputs": [],
   "source": [
    "def solution(prices):\n",
    "    answer = []\n",
    "    for i ,p in enumerate(prices):\n",
    "        total = 0\n",
    "        if i != len(prices)-1:\n",
    "            for idx ,j in enumerate(prices[i+1:]):\n",
    "                if p <=j:\n",
    "                    total+=1\n",
    "                    if idx == len(prices)-(i+2):\n",
    "                        answer.append(total)\n",
    "                else:\n",
    "                    answer.append(total+1)\n",
    "                    break\n",
    "        else :\n",
    "            answer.append(0)\n",
    "    return answer"
   ]
  },
  {
   "cell_type": "code",
   "execution_count": null,
   "id": "344f52c9",
   "metadata": {},
   "outputs": [],
   "source": [
    "from collections import deque\n",
    "\n",
    "def solution(prices):\n",
    "    queue =deque(prices)\n",
    "    answer=[0]*len(prices)\n",
    "    len_pr = len(prices)\n",
    "    while queue:\n",
    "        price = queue.popleft()\n",
    "        for i in queue:\n",
    "            if price > i:\n",
    "                answer[len_pr-len(queue)-1]+=1\n",
    "                break            \n",
    "            # elif price <= i:\n",
    "            else:\n",
    "                answer[len_pr-len(queue)-1]+=1\n",
    "    return answer"
   ]
  }
 ],
 "metadata": {
  "kernelspec": {
   "display_name": "Python 3",
   "language": "python",
   "name": "python3"
  },
  "language_info": {
   "codemirror_mode": {
    "name": "ipython",
    "version": 3
   },
   "file_extension": ".py",
   "mimetype": "text/x-python",
   "name": "python",
   "nbconvert_exporter": "python",
   "pygments_lexer": "ipython3",
   "version": "3.8.8"
  }
 },
 "nbformat": 4,
 "nbformat_minor": 5
}
