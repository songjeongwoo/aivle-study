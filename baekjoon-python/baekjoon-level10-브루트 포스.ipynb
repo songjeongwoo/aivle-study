{
 "cells": [
  {
   "cell_type": "markdown",
   "id": "5316ac6b",
   "metadata": {},
   "source": [
    "# 1436 영화감독 숌\n",
    "\n",
    "666은 종말을 나타내는 숫자라고 한다. 따라서, 많은 블록버스터 영화에서는 666이 들어간 제목을 많이 사용한다. 영화감독 숌은 세상의 종말 이라는 시리즈 영화의 감독이다. 조지 루카스는 스타워즈를 만들 때, 스타워즈 1, 스타워즈 2, 스타워즈 3, 스타워즈 4, 스타워즈 5, 스타워즈 6과 같이 이름을 지었고, 피터 잭슨은 반지의 제왕을 만들 때, 반지의 제왕 1, 반지의 제왕 2, 반지의 제왕 3과 같이 영화 제목을 지었다.<br>\n",
    "\n",
    "하지만 숌은 자신이 조지 루카스와 피터 잭슨을 뛰어넘는다는 것을 보여주기 위해서 영화 제목을 좀 다르게 만들기로 했다.<br>\n",
    "\n",
    "종말의 숫자란 어떤 수에 6이 적어도 3개이상 연속으로 들어가는 수를 말한다. 제일 작은 종말의 숫자는 666이고, 그 다음으로 큰 수는 1666, 2666, 3666, .... 과 같다.<br>\n",
    "\n",
    "따라서, 숌은 첫 번째 영화의 제목은 세상의 종말 666, 두 번째 영화의 제목은 세상의 종말 1666 이렇게 이름을 지을 것이다. 일반화해서 생각하면, N번째 영화의 제목은 세상의 종말 (N번째로 작은 종말의 숫자) 와 같다.<br>\n",
    "\n",
    "숌이 만든 N번째 영화의 제목에 들어간 숫자를 출력하는 프로그램을 작성하시오. 숌은 이 시리즈를 항상 차례대로 만들고, 다른 영화는 만들지 않는다.<br>\n",
    "\n",
    "### 입력<br>\n",
    "- 첫째 줄에 숫자 N이 주어진다. N은 10,000보다 작거나 같은 자연수이다.<br>\n",
    "\n",
    "### 출력<br>\n",
    "- 첫째 줄에 N번째 영화의 제목에 들어간 수를 출력한다.<br>\n",
    "\n",
    "### 예제 입력 1<br>\n",
    "- 2<br>\n",
    "\n",
    "### 예제 출력 1<br>\n",
    "- 1666<br>\n",
    "\n",
    "### 예제 입력 2<br>\n",
    "- 3<br>\n",
    "\n",
    "### 예제 출력 2<br>\n",
    "- 2666<br>\n",
    "\n",
    "### 출처\n",
    "- 문제를 번역한 사람: baekjoon<br>\n",
    "- 어색한 표현을 찾은 사람: mwy3055<br>\n",
    "\n",
    "### 알고리즘 분류\n",
    "- 브루트포스 알고리즘<br>"
   ]
  },
  {
   "cell_type": "code",
   "execution_count": 1,
   "id": "101c667f",
   "metadata": {},
   "outputs": [
    {
     "name": "stdout",
     "output_type": "stream",
     "text": [
      "500\n",
      "166699\n"
     ]
    }
   ],
   "source": [
    "n = int(input())\n",
    "cnt = 0\n",
    "end = 666\n",
    "while True:\n",
    "    if '666' in str(end):\n",
    "        cnt += 1\n",
    "    if cnt == n:\n",
    "        print(end)\n",
    "        break\n",
    "    end += 1"
   ]
  }
 ],
 "metadata": {
  "kernelspec": {
   "display_name": "Python 3",
   "language": "python",
   "name": "python3"
  },
  "language_info": {
   "codemirror_mode": {
    "name": "ipython",
    "version": 3
   },
   "file_extension": ".py",
   "mimetype": "text/x-python",
   "name": "python",
   "nbconvert_exporter": "python",
   "pygments_lexer": "ipython3",
   "version": "3.8.8"
  },
  "toc": {
   "base_numbering": 1,
   "nav_menu": {},
   "number_sections": true,
   "sideBar": true,
   "skip_h1_title": false,
   "title_cell": "Table of Contents",
   "title_sidebar": "Contents",
   "toc_cell": false,
   "toc_position": {},
   "toc_section_display": true,
   "toc_window_display": false
  }
 },
 "nbformat": 4,
 "nbformat_minor": 5
}
