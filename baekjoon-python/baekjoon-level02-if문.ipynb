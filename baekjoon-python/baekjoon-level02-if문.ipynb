{
 "cells": [
  {
   "cell_type": "markdown",
   "id": "1e3cc965",
   "metadata": {},
   "source": [
    "## 1330 두 수 비교하기\n",
    "두 정수 A와 B가 주어졌을 때, A와 B를 비교하는 프로그램을 작성하시오.\n",
    "### 입력\n",
    "- 첫째 줄에 A와 B가 주어진다. A와 B는 공백 한 칸으로 구분되어져 있다.\n",
    "### 출력\n",
    "- 첫째 줄에 다음 세 가지 중 하나를 출력한다.\n",
    "- &nbsp;&nbsp;\\- A가 B보다 큰 경우에는 '>'를 출력한다.\n",
    "- &nbsp;&nbsp;\\- A가 B보다 작은 경우에는 '<'를 출력한다.\n",
    "- &nbsp;&nbsp;\\- A와 B가 같은 경우에는 '=='를 출력한다.\n",
    "### 제한\n",
    "- -10,000 ≤ A, B ≤ 10,000\n",
    "### 예제 입력 1\n",
    "- 1 2\n",
    "### 예제 출력 1\n",
    "- <"
   ]
  },
  {
   "cell_type": "code",
   "execution_count": 6,
   "id": "66adda7a",
   "metadata": {},
   "outputs": [
    {
     "name": "stdout",
     "output_type": "stream",
     "text": [
      "1 2\n",
      "<\n"
     ]
    }
   ],
   "source": [
    "a, b = input().split()\n",
    "a = int(a) # 파이썬은 디폴트로 문자로 받는다.\n",
    "b = int(b)\n",
    "if(a > b): # 조건문 뒤에 :을 쓴다.\n",
    "    print(\">\")\n",
    "elif(a < b): # else if는 elif로 쓴다.\n",
    "    print (\"<\")\n",
    "else:\n",
    "    print(\"==\")"
   ]
  },
  {
   "cell_type": "markdown",
   "id": "e1668ccc",
   "metadata": {},
   "source": [
    "## 9498 시험 성적\n",
    "시험 점수를 입력받아 90 ~ 100점은 A, 80 ~ 89점은 B, 70 ~ 79점은 C, 60 ~ 69점은 D, 나머지 점수는 F를 출력하는 프로그램을 작성하시오.\n",
    "### 입력\n",
    "- 첫째 줄에 시험 점수가 주어진다. 시험 점수는 0보다 크거나 같고, 100보다 작거나 같은 정수이다.\n",
    "### 출력\n",
    "- 시험 성적을 출력한다. \n",
    "### 예제 입력 1\n",
    "- 100\n",
    "### 예제 출력 1\n",
    "- A"
   ]
  },
  {
   "cell_type": "code",
   "execution_count": 2,
   "id": "98da61bf",
   "metadata": {},
   "outputs": [
    {
     "name": "stdout",
     "output_type": "stream",
     "text": [
      "100\n",
      "A\n"
     ]
    }
   ],
   "source": [
    "a = input()\n",
    "a = int(a) # 파이썬은 디폴트로 문자로 받는다.\n",
    "\n",
    "if(a >= 90):\n",
    "    print(\"A\")\n",
    "elif(a >= 80):\n",
    "    print(\"B\")\n",
    "elif(a >= 70):\n",
    "    print(\"C\")\n",
    "elif(a >= 60):\n",
    "    print(\"D\")\n",
    "else:\n",
    "    print(\"F\")"
   ]
  },
  {
   "cell_type": "markdown",
   "id": "15f38c37",
   "metadata": {},
   "source": [
    "## 2753 윤년\n",
    "시험 점수를 입력받아 90 ~ 100점은 A, 80 ~ 89점은 B, 70 ~ 79점은 C, 60 ~ 69점은 D, 나머지 점수는 F를 출력하는 프로그램을 작성하시오.\n",
    "### 입력\n",
    "- 첫째 줄에 시험 점수가 주어진다. 시험 점수는 0보다 크거나 같고, 100보다 작거나 같은 정수이다.\n",
    "### 출력\n",
    "- 시험 성적을 출력한다.\n",
    "### 예제 입력 1\n",
    "- 100\n",
    "### 예제 출력 1\n",
    "- A"
   ]
  },
  {
   "cell_type": "code",
   "execution_count": 3,
   "id": "d7e54bdd",
   "metadata": {},
   "outputs": [
    {
     "name": "stdout",
     "output_type": "stream",
     "text": [
      "2000\n",
      "1\n"
     ]
    }
   ],
   "source": [
    "a = input()\n",
    "a = int(a) # 파이썬은 디폴트로 문자로 받는다.\n",
    "\n",
    "if(a % 4 == 0 and a % 100 != 0): # &&와 ||연산자는 정말 그대로 and와 or로 쓴다.\n",
    "    print(1)\n",
    "elif(a % 400 == 0):\n",
    "    print(1)\n",
    "else:\n",
    "    print(0)"
   ]
  },
  {
   "cell_type": "markdown",
   "id": "1fafadb3",
   "metadata": {},
   "source": [
    "## 14681 사분면 고르기\n",
    "흔한 수학 문제 중 하나는 주어진 점이 어느 사분면에 속하는지 알아내는 것이다. 사분면은 아래 그림처럼 1부터 4까지 번호를 갖는다. \"Quadrant n\"은 \"제n사분면\"이라는 뜻이다.\n",
    "\n",
    "예를 들어, 좌표가 (12, 5)인 점 A는 x좌표와 y좌표가 모두 양수이므로 제1사분면에 속한다. 점 B는 x좌표가 음수이고 y좌표가 양수이므로 제2사분면에 속한다.\n",
    "점의 좌표를 입력받아 그 점이 어느 사분면에 속하는지 알아내는 프로그램을 작성하시오. 단, x좌표와 y좌표는 모두 양수나 음수라고 가정한다.\n",
    "### 입력\n",
    "- 첫 줄에는 정수 x가 주어진다. (−1000 ≤ x ≤ 1000; x ≠ 0) 다음 줄에는 정수 y가 주어진다. (−1000 ≤ y ≤ 1000; y ≠ 0)\n",
    "### 출력\n",
    "- 점 (x, y)의 사분면 번호(1, 2, 3, 4 중 하나)를 출력한다. \n",
    "### 예제 입력 1\n",
    "- 12\n",
    "- 5\n",
    "### 예제 출력 1\n",
    "- 1"
   ]
  },
  {
   "cell_type": "code",
   "execution_count": 4,
   "id": "231945d2",
   "metadata": {},
   "outputs": [
    {
     "name": "stdout",
     "output_type": "stream",
     "text": [
      "9\n",
      "-13\n",
      "4\n"
     ]
    }
   ],
   "source": [
    "a = input()\n",
    "b = input()\n",
    "a = int(a)\n",
    "b = int(b)\n",
    "\n",
    "if(a > 0 and b > 0):\n",
    "    print(1)\n",
    "elif(a < 0 and b > 0):\n",
    "    print(2)\n",
    "elif(a < 0 and b < 0):\n",
    "    print(3)\n",
    "else:\n",
    "    print(4)"
   ]
  },
  {
   "cell_type": "markdown",
   "id": "1ab6296d",
   "metadata": {},
   "source": [
    "## 알람 시계\n",
    "상근이는 매일 아침 알람을 듣고 일어난다. 알람을 듣고 바로 일어나면 다행이겠지만, 항상 조금만 더 자려는 마음 때문에 매일 학교를 지각하고 있다.\n",
    "상근이는 모든 방법을 동원해보았지만, 조금만 더 자려는 마음은 그 어떤 것도 없앨 수가 없었다.\n",
    "이런 상근이를 불쌍하게 보던, 창영이는 자신이 사용하는 방법을 추천해 주었다.\n",
    "바로 \"45분 일찍 알람 설정하기\"이다.\n",
    "이 방법은 단순하다. 원래 설정되어 있는 알람을 45분 앞서는 시간으로 바꾸는 것이다. 어차피 알람 소리를 들으면, 알람을 끄고 조금 더 잘 것이기 때문이다. 이 방법을 사용하면, 매일 아침 더 잤다는 기분을 느낄 수 있고, 학교도 지각하지 않게 된다.\n",
    "현재 상근이가 설정한 알람 시각이 주어졌을 때, 창영이의 방법을 사용한다면, 이를 언제로 고쳐야 하는지 구하는 프로그램을 작성하시오.\n",
    "### 입력\n",
    "- 첫째 줄에 두 정수 H와 M이 주어진다. (0 ≤ H ≤ 23, 0 ≤ M ≤ 59) 그리고 이것은 현재 상근이가 설정한 놓은 알람 시간 H시 M분을 의미한다.\n",
    "- 입력 시간은 24시간 표현을 사용한다. 24시간 표현에서 하루의 시작은 0:0(자정)이고, 끝은 23:59(다음날 자정 1분 전)이다. 시간을 나타낼 때, 불필요한 0은 사용하지 않는다.\n",
    "### 출력\n",
    "- 첫째 줄에 상근이가 창영이의 방법을 사용할 때, 설정해야 하는 알람 시간을 출력한다. (입력과 같은 형태로 출력하면 된다.)\n",
    "### 예제 입력 1\n",
    "- 10 10\n",
    "### 예제 출력 1\n",
    "- 9 25\n",
    "### 예제 입력 2\n",
    "- 0 30\n",
    "### 예제 출력 2\n",
    "- 23 45"
   ]
  },
  {
   "cell_type": "code",
   "execution_count": 5,
   "id": "972683c7",
   "metadata": {},
   "outputs": [
    {
     "name": "stdout",
     "output_type": "stream",
     "text": [
      "10 10\n",
      "9 25\n"
     ]
    }
   ],
   "source": [
    "h, m = input().split()\n",
    "h = int(h)\n",
    "m = int(m)\n",
    "result = m - 45\n",
    "\n",
    "if(result >= 0):\n",
    "    print(h, result)\n",
    "elif(h-1 < 0):\n",
    "    print(23, result + 60)\n",
    "else:\n",
    "    print(h-1, result + 60)"
   ]
  },
  {
   "cell_type": "markdown",
   "id": "2044a79f",
   "metadata": {},
   "source": [
    "## 2525 오븐 시계\n",
    "KOI 전자에서는 건강에 좋고 맛있는 훈제오리구이 요리를 간편하게 만드는 인공지능 오븐을 개발하려고 한다. 인공지능 오븐을 사용하는 방법은 적당한 양의 오리 훈제 재료를 인공지능 오븐에 넣으면 된다. 그러면 인공지능 오븐은 오븐구이가 끝나는 시간을 분 단위로 자동적으로 계산한다.<br>\n",
    "\n",
    "또한, KOI 전자의 인공지능 오븐 앞면에는 사용자에게 훈제오리구이 요리가 끝나는 시각을 알려 주는 디지털 시계가 있다.<br>\n",
    "\n",
    "훈제오리구이를 시작하는 시각과 오븐구이를 하는 데 필요한 시간이 분단위로 주어졌을 때, 오븐구이가 끝나는 시각을 계산하는 프로그램을 작성하시오.<br>\n",
    "\n",
    "<hr><br>\n",
    "\n",
    "### 입력<br>\n",
    "- 첫째 줄에는 현재 시각이 나온다. 현재 시각은 시 A (0 ≤ A ≤ 23) 와 분 B (0 ≤ B ≤ 59)가 정수로 빈칸을 사이에 두고 순서대로 주어진다. 두 번째 줄에는 요리하는 데 필요한 시간 C (0 ≤ C ≤ 1,000)가 분 단위로 주어진다. <br>\n",
    "\n",
    "### 출력\n",
    "- 첫째 줄에 종료되는 시각의 시와 분을 공백을 사이에 두고 출력한다. (단, 시는 0부터 23까지의 정수, 분은 0부터 59까지의 정수이다. 디지털 시계는 23시 59분에서 1분이 지나면 0시 0분이 된다.)<br>\n",
    "\n",
    "### 예제 입력 1\n",
    "- 14 30<br>\n",
    "- 20<br>\n",
    "\n",
    "### 예제 출력 1\n",
    "- 14 50<br>\n",
    "\n",
    "### 예제 입력 2\n",
    "- 17 40<br>\n",
    "- 80<br>\n",
    "\n",
    "### 예제 출력 2\n",
    "- 19 0<br>\n",
    "\n",
    "### 예제 입력 3\n",
    "- 23 48<br>\n",
    "- 25<br>\n",
    "\n",
    "### 예제 출력 3\n",
    "- 0 13<br><br>"
   ]
  },
  {
   "cell_type": "code",
   "execution_count": 1,
   "id": "1f74f7f0",
   "metadata": {},
   "outputs": [
    {
     "name": "stdout",
     "output_type": "stream",
     "text": [
      "23 48\n",
      "25\n",
      "0 13\n"
     ]
    }
   ],
   "source": [
    "h, m = map(int, input().split())\n",
    "c = int(input())\n",
    "\n",
    "if c >= 60:\n",
    "    h += c // 60\n",
    "    m += c % 60\n",
    "else:\n",
    "    m += c\n",
    "\n",
    "if m >= 60:\n",
    "    h += 1\n",
    "    m -= 60\n",
    "    \n",
    "if h >= 24:\n",
    "    h -= 24\n",
    "\n",
    "print(h, m)"
   ]
  }
 ],
 "metadata": {
  "kernelspec": {
   "display_name": "Python 3",
   "language": "python",
   "name": "python3"
  },
  "language_info": {
   "codemirror_mode": {
    "name": "ipython",
    "version": 3
   },
   "file_extension": ".py",
   "mimetype": "text/x-python",
   "name": "python",
   "nbconvert_exporter": "python",
   "pygments_lexer": "ipython3",
   "version": "3.8.8"
  },
  "toc": {
   "base_numbering": 1,
   "nav_menu": {},
   "number_sections": true,
   "sideBar": true,
   "skip_h1_title": false,
   "title_cell": "Table of Contents",
   "title_sidebar": "Contents",
   "toc_cell": false,
   "toc_position": {},
   "toc_section_display": true,
   "toc_window_display": false
  }
 },
 "nbformat": 4,
 "nbformat_minor": 5
}
