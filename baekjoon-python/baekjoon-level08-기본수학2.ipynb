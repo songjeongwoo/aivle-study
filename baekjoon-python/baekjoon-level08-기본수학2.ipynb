{
 "cells": [
  {
   "cell_type": "markdown",
   "id": "5ef15ad2",
   "metadata": {},
   "source": [
    "# 1978 소수찾기\n",
    "\n",
    "주어진 수 N개 중에서 소수가 몇 개인지 찾아서 출력하는 프로그램을 작성하시오.<br>\n",
    "\n",
    "### 입력<br>\n",
    "- 첫 줄에 수의 개수 N이 주어진다. N은 100이하이다. 다음으로 N개의 수가 주어지는데 수는 1,000 이하의 자연수이다.<br>\n",
    "\n",
    "### 출력<br>\n",
    "- 주어진 수들 중 소수의 개수를 출력한다.<br>\n",
    "\n",
    "### 예제 입력 1<br>\n",
    "- 4<br>\n",
    "- 1 3 5 7<br>\n",
    "\n",
    "### 예제 출력 1<br>\n",
    "- 3<br>\n",
    "\n",
    "### 출처\n",
    "- 데이터를 추가한 사람: bclim9108, nova9128<br>\n",
    "- 문제의 오타를 찾은 사람: djm03178<br>\n",
    "\n",
    "### 알고리즘 분류\n",
    "- 수학<br>\n",
    "- 정수론<br>\n",
    "- 소수 판정<br>\n",
    "- 에라토스테네스의 체<br>"
   ]
  },
  {
   "cell_type": "code",
   "execution_count": 20,
   "id": "c1d6b629",
   "metadata": {},
   "outputs": [
    {
     "name": "stdout",
     "output_type": "stream",
     "text": [
      "5\n",
      "1 2 4 7 11\n",
      "3\n"
     ]
    }
   ],
   "source": [
    "n = int(input())\n",
    "temp = list(map(int, input().split()))\n",
    "cnt = 0\n",
    "\n",
    "for i in range(len(temp)):\n",
    "    div = 0\n",
    "    for j in range(2, temp[i] + 1):\n",
    "        if temp[i] % j == 0:\n",
    "            div += 1\n",
    "    if div == 1:\n",
    "        cnt += 1\n",
    "print(cnt)"
   ]
  },
  {
   "cell_type": "markdown",
   "id": "73448a1b",
   "metadata": {},
   "source": [
    "# 2581 소수\n",
    "\n",
    "자연수 M과 N이 주어질 때 M이상 N이하의 자연수 중 소수인 것을 모두 골라 이들 소수의 합과 최솟값을 찾는 프로그램을 작성하시오.<br>\n",
    "\n",
    "예를 들어 M=60, N=100인 경우 60이상 100이하의 자연수 중 소수는 61, 67, 71, 73, 79, 83, 89, 97 총 8개가 있으므로, 이들 소수의 합은 620이고, 최솟값은 61이 된다.<br>\n",
    "\n",
    "### 입력<br>\n",
    "- 입력의 첫째 줄에 M이, 둘째 줄에 N이 주어진다.<br>\n",
    "- M과 N은 10,000이하의 자연수이며, M은 N보다 작거나 같다.<br>\n",
    "\n",
    "### 출력<br>\n",
    "- M이상 N이하의 자연수 중 소수인 것을 모두 찾아 첫째 줄에 그 합을, 둘째 줄에 그 중 최솟값을 출력한다. <br>\n",
    "- 단, M이상 N이하의 자연수 중 소수가 없을 경우는 첫째 줄에 -1을 출력한다.<br>\n",
    "\n",
    "### 예제 입력 1<br>\n",
    "- 60<br>\n",
    "- 100<br>\n",
    "\n",
    "### 예제 출력 1<br>\n",
    "- 620<br>\n",
    "- 61<br>\n",
    "\n",
    "### 예제 입력 2<br>\n",
    "- 64<br>\n",
    "- 65<br>\n",
    "\n",
    "### 예제 출력 2<br>\n",
    "- -1<br>\n",
    "\n",
    "### 출처\n",
    "- 문제의 오타를 찾은 사람: jh05013, sky1357<br>\n",
    "- 데이터를 추가한 사람: kyaryunha, snapflip20<br>\n",
    "- 문제의 오타를 찾은 사람: myungwoo<br>\n",
    "\n",
    "### 알고리즘 분류\n",
    "- 수학<br>\n",
    "- 정수론<br>\n",
    "- 소수 판정<br>"
   ]
  },
  {
   "cell_type": "code",
   "execution_count": 5,
   "id": "71797e7d",
   "metadata": {},
   "outputs": [
    {
     "name": "stdout",
     "output_type": "stream",
     "text": [
      "60\n",
      "100\n",
      "620\n",
      "61\n"
     ]
    }
   ],
   "source": [
    "m = int(input())\n",
    "n = int(input())\n",
    "\n",
    "tmp = []\n",
    "\n",
    "for i in range(m, n + 1):\n",
    "    div = 0\n",
    "    for j in range(2, i + 1):\n",
    "        if i % j == 0:\n",
    "            div += 1\n",
    "    if div == 1:\n",
    "        tmp.append(i)\n",
    "\n",
    "if tmp:\n",
    "    print(sum(tmp))\n",
    "    print(tmp[0])\n",
    "else:\n",
    "    print(-1)"
   ]
  },
  {
   "cell_type": "markdown",
   "id": "62ebb413",
   "metadata": {},
   "source": [
    "# 11653 소인수분해\n",
    "\n",
    "정수 N이 주어졌을 때, 소인수분해하는 프로그램을 작성하시오.<br>\n",
    "\n",
    "### 입력<br>\n",
    "- 첫째 줄에 정수 N (1 ≤ N ≤ 10,000,000)이 주어진다.<br>\n",
    "\n",
    "### 출력<br>\n",
    "- N의 소인수분해 결과를 한 줄에 하나씩 오름차순으로 출력한다. N이 1인 경우 아무것도 출력하지 않는다.<br>\n",
    "\n",
    "### 예제 입력 1<br>\n",
    "- 72<br>\n",
    "\n",
    "### 예제 출력 1<br>\n",
    "- 2<br>\n",
    "- 2<br>\n",
    "- 2<br>\n",
    "- 3<br>\n",
    "- 3<br>\n",
    "\n",
    "### 예제 입력 2<br>\n",
    "- 3<br>\n",
    "\n",
    "### 예제 출력 2<br>\n",
    "- 3<br>\n",
    "\n",
    "### 예제 입력 3<br>\n",
    "- 6<br>\n",
    "\n",
    "### 예제 출력 3<br>\n",
    "- 2<br>\n",
    "- 3<br>\n",
    "\n",
    "### 출처\n",
    "- 문제의 오타를 찾은 사람: BaaaaaaaaaaarkingDog, Green55<br>\n",
    "- 데이터를 추가한 사람: baekjoon<br>\n",
    "- 문제의 오타를 찾은 사람: wjdclgns12<br>\n",
    "\n",
    "### 알고리즘 분류\n",
    "- 수학<br>\n",
    "- 정수론<br>\n",
    "- 소수 판정<br>"
   ]
  },
  {
   "cell_type": "code",
   "execution_count": null,
   "id": "971fe7ff",
   "metadata": {},
   "outputs": [],
   "source": []
  }
 ],
 "metadata": {
  "kernelspec": {
   "display_name": "Python 3",
   "language": "python",
   "name": "python3"
  },
  "language_info": {
   "codemirror_mode": {
    "name": "ipython",
    "version": 3
   },
   "file_extension": ".py",
   "mimetype": "text/x-python",
   "name": "python",
   "nbconvert_exporter": "python",
   "pygments_lexer": "ipython3",
   "version": "3.8.8"
  },
  "toc": {
   "base_numbering": 1,
   "nav_menu": {},
   "number_sections": true,
   "sideBar": true,
   "skip_h1_title": false,
   "title_cell": "Table of Contents",
   "title_sidebar": "Contents",
   "toc_cell": false,
   "toc_position": {},
   "toc_section_display": true,
   "toc_window_display": false
  }
 },
 "nbformat": 4,
 "nbformat_minor": 5
}
