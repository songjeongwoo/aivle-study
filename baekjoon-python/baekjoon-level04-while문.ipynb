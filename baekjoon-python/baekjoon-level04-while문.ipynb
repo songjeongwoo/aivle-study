{
 "cells": [
  {
   "cell_type": "markdown",
   "id": "24b46fe8",
   "metadata": {},
   "source": [
    "## 10952 A+B - 5\n",
    "두 정수 A와 B를 입력받은 다음, A+B를 출력하는 프로그램을 작성하시오.\n",
    "### 입력\n",
    "- 입력은 여러 개의 테스트 케이스로 이루어져 있다.\n",
    "- 각 테스트 케이스는 한 줄로 이루어져 있으며, 각 줄에 A와 B가 주어진다. (0 < A, B < 10)\n",
    "- 입력의 마지막에는 0 두 개가 들어온다.\n",
    "### 출력\n",
    "- 각 테스트 케이스마다 A+B를 출력한다.\n",
    "### 예제 입력 1\n",
    "- 1 1\n",
    "- 2 3\n",
    "- 3 4\n",
    "- 9 8\n",
    "- 5 2\n",
    "- 0 0\n",
    "### 예제 출력 1\n",
    "- 2\n",
    "- 5\n",
    "- 7\n",
    "- 17\n",
    "- 7"
   ]
  },
  {
   "cell_type": "code",
   "execution_count": 1,
   "id": "40fc9b76",
   "metadata": {},
   "outputs": [
    {
     "name": "stdout",
     "output_type": "stream",
     "text": [
      "1 1\n",
      "2 3\n",
      "3 4\n",
      "9 8\n",
      "5 2\n",
      "0 0\n",
      "2\n",
      "5\n",
      "7\n",
      "17\n",
      "7\n"
     ]
    }
   ],
   "source": [
    "a, b = map(int, input().split())\n",
    "list = []\n",
    "list.append(a + b)\n",
    "\n",
    "while (a != 0 and b != 0):\n",
    "    a, b = map(int, input().split())\n",
    "    list.append(a + b) # append(arg): 리스트 마지막 idx에 arg를 원소로 추가\n",
    "\n",
    "list.remove(0)\n",
    "\n",
    "while (list != []):\n",
    "    print(list.pop(0)) # pop(i): 리스트에서 i(idx)에 해당하는 값을 빼옴\n",
    "\n",
    "# cf)\n",
    "# insert(i, v): 리스트 i(idx) 자리에 v(value)를 원소로 추가\n",
    "# extend([v1, v2...]): 기존 리스트 뒤에 리스트(arg)를 추가\n",
    "# remove(v): 리스트에서 v(value)를 찾아 삭제(idx와 관계없음)\n",
    "# clear(): 리스트 원소를 모두 비움"
   ]
  },
  {
   "cell_type": "markdown",
   "id": "16c964d8",
   "metadata": {},
   "source": [
    "## 10951 A+B - 4\n",
    "두 정수 A와 B를 입력받은 다음, A+B를 출력하는 프로그램을 작성하시오.\n",
    "### 입력\n",
    "- 입력은 여러 개의 테스트 케이스로 이루어져 있다.\n",
    "- 각 테스트 케이스는 한 줄로 이루어져 있으며, 각 줄에 A와 B가 주어진다. (0 < A, B < 10)\n",
    "### 출력\n",
    "- 각 테스트 케이스마다 A+B를 출력한다. \n",
    "### 예제 입력 1\n",
    "- 1 1\n",
    "- 2 3\n",
    "- 3 4\n",
    "- 9 8\n",
    "- 5 2\n",
    "### 예제 출력 1\n",
    "- 2\n",
    "- 5\n",
    "- 7\n",
    "- 17\n",
    "- 7"
   ]
  },
  {
   "cell_type": "code",
   "execution_count": null,
   "id": "7f0ed9e7",
   "metadata": {},
   "outputs": [],
   "source": [
    "while (True): # cf) js처럼 변수만 써도 boolean 판별   # cf) not a처럼 활용가능\n",
    "    try:\n",
    "        a, b = map(int, input().split())\n",
    "        print(a + b)\n",
    "    except:\n",
    "        break\n",
    "# EOFError: End of File로 파일에 끝이 없을 때 에러\n",
    "# 파이썬: try~catch로 예외처리 해줘서 해결한다.\n",
    "# 자바: Scanner의 hasNextInt()를 while문 조건식에서 사용한다.\n",
    "# cf) sc.hasNextInt()는 입력값이 int타입일 때만 true를 리턴한다."
   ]
  },
  {
   "cell_type": "markdown",
   "id": "9a521a89",
   "metadata": {},
   "source": [
    "## 1110 더하기 사이클\n",
    "0보다 크거나 같고, 99보다 작거나 같은 정수가 주어질 때 다음과 같은 연산을 할 수 있다. 먼저 주어진 수가 10보다 작다면 앞에 0을 붙여 두 자리 수로 만들고, 각 자리의 숫자를 더한다. 그 다음, 주어진 수의 가장 오른쪽 자리 수와 앞에서 구한 합의 가장 오른쪽 자리 수를 이어 붙이면 새로운 수를 만들 수 있다. 다음 예를 보자.\n",
    "26부터 시작한다. 2+6 = 8이다. 새로운 수는 68이다. 6+8 = 14이다. 새로운 수는 84이다. 8+4 = 12이다. 새로운 수는 42이다. 4+2 = 6이다. 새로운 수는 26이다.\n",
    "위의 예는 4번만에 원래 수로 돌아올 수 있다. 따라서 26의 사이클의 길이는 4이다.\n",
    "N이 주어졌을 때, N의 사이클의 길이를 구하는 프로그램을 작성하시오.\n",
    "### 입력\n",
    "- 첫째 줄에 N이 주어진다. N은 0보다 크거나 같고, 99보다 작거나 같은 정수이다.\n",
    "### 출력\n",
    "- 첫째 줄에 N의 사이클 길이를 출력한다.\n",
    "### 예제 입력 1\n",
    "- 26\n",
    "### 예제 출력 1\n",
    "- 4\n",
    "### 예제 입력 2\n",
    "- 55\n",
    "### 예제 출력 2\n",
    "- 3"
   ]
  },
  {
   "cell_type": "code",
   "execution_count": 2,
   "id": "dbbea1b0",
   "metadata": {},
   "outputs": [
    {
     "name": "stdout",
     "output_type": "stream",
     "text": [
      "26\n",
      "4\n"
     ]
    }
   ],
   "source": [
    "# ★★★\n",
    "N = int(input())\n",
    "\n",
    "i = N\n",
    "count = 0\n",
    "\n",
    "while True:\n",
    "    a = i // 10 #앞자리 수\n",
    "    b = i % 10 #뒷자리 수\n",
    "    sum = a + b\n",
    "    i = b * 10 + sum % 10\n",
    "    count += 1\n",
    "    \n",
    "    if i == N: break\n",
    "\n",
    "print(count)"
   ]
  }
 ],
 "metadata": {
  "kernelspec": {
   "display_name": "Python 3",
   "language": "python",
   "name": "python3"
  },
  "language_info": {
   "codemirror_mode": {
    "name": "ipython",
    "version": 3
   },
   "file_extension": ".py",
   "mimetype": "text/x-python",
   "name": "python",
   "nbconvert_exporter": "python",
   "pygments_lexer": "ipython3",
   "version": "3.8.8"
  }
 },
 "nbformat": 4,
 "nbformat_minor": 5
}
