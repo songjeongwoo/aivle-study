{
 "cells": [
  {
   "cell_type": "markdown",
   "id": "dceec638",
   "metadata": {},
   "source": [
    "# 1712 손익분기점\n",
    "월드전자는 노트북을 제조하고 판매하는 회사이다. 노트북 판매 대수에 상관없이 매년 임대료, 재산세, 보험료, 급여 등 A만원의 고정 비용이 들며, 한 대의 노트북을 생산하는 데에는 재료비와 인건비 등 총 B만원의 가변 비용이 든다고 한다.\n",
    "\n",
    "예를 들어 A=1,000, B=70이라고 하자. 이 경우 노트북을 한 대 생산하는 데는 총 1,070만원이 들며, 열 대 생산하는 데는 총 1,700만원이 든다.\n",
    "\n",
    "노트북 가격이 C만원으로 책정되었다고 한다. 일반적으로 생산 대수를 늘려 가다 보면 어느 순간 총 수입(판매비용)이 총 비용(=고정비용+가변비용)보다 많아지게 된다. 최초로 총 수입이 총 비용보다 많아져 이익이 발생하는 지점을 손익분기점(BREAK-EVEN POINT)이라고 한다.\n",
    "\n",
    "A, B, C가 주어졌을 때, 손익분기점을 구하는 프로그램을 작성하시오.\n",
    "### 입력\n",
    "- 첫째 줄에 A, B, C가 빈 칸을 사이에 두고 순서대로 주어진다. A, B, C는 21억 이하의 자연수이다.\n",
    "### 출력\n",
    "- 첫 번째 줄에 손익분기점 즉 최초로 이익이 발생하는 판매량을 출력한다. 손익분기점이 존재하지 않으면 -1을 출력한다.\n",
    "### 예제 입력 1\n",
    "- 1000 70 170\n",
    "### 예제 출력 1\n",
    "- 11\n",
    "### 예제 입력 2\n",
    "- 3 2 1\n",
    "### 예제 출력 2\n",
    "- -1"
   ]
  },
  {
   "cell_type": "code",
   "execution_count": 30,
   "id": "05c9ed65",
   "metadata": {},
   "outputs": [
    {
     "name": "stdout",
     "output_type": "stream",
     "text": [
      "2100000000 9 10\n",
      "2100000001\n"
     ]
    }
   ],
   "source": [
    "a, b, c = map(int, input().split())\n",
    "if (c-b != 0) and (a/(c-b) > 0):  # a / (c-b) < x => 고정비용 / (개당 판매가격 - 가변비용) < x\n",
    "    print(int(a/(c-b) + 1))\n",
    "else:\n",
    "    print(-1)"
   ]
  },
  {
   "cell_type": "markdown",
   "id": "c02417e4",
   "metadata": {},
   "source": [
    "# 2292 벌집\n",
    "<img src=\"https://www.acmicpc.net/JudgeOnline/upload/201009/3(2).png\" width = 300;><br>\n",
    "위의 그림과 같이 육각형으로 이루어진 벌집이 있다. 그림에서 보는 바와 같이 중앙의 방 1부터 시작해서 이웃하는 방에 돌아가면서 1씩 증가하는 번호를 주소로 매길 수 있다. 숫자 N이 주어졌을 때, 벌집의 중앙 1에서 N번 방까지 최소 개수의 방을 지나서 갈 때 몇 개의 방을 지나가는지(시작과 끝을 포함하여)를 계산하는 프로그램을 작성하시오. 예를 들면, 13까지는 3개, 58까지는 5개를 지난다.\n",
    "\n",
    "### 입력\n",
    "- 첫째 줄에 N(1 ≤ N ≤ 1,000,000,000)이 주어진다.\n",
    "\n",
    "### 출력\n",
    "- 입력으로 주어진 방까지 최소 개수의 방을 지나서 갈 때 몇 개의 방을 지나는지 출력한다.\n",
    "\n",
    "### 예제 입력 1 \n",
    "- 13\n",
    "\n",
    "### 예제 출력 1 \n",
    "- 3"
   ]
  },
  {
   "cell_type": "code",
   "execution_count": 59,
   "id": "e1c0ae04",
   "metadata": {},
   "outputs": [
    {
     "name": "stdout",
     "output_type": "stream",
     "text": [
      "1\n",
      "1\n"
     ]
    }
   ],
   "source": [
    "# 6*0 = 1 -> 6*1 = 6개 -> 6*2 = 12개 -> 6*3 = 18개 -> 6*4 = 24개\n",
    "n = int(input())\n",
    "result = 1\n",
    "cnt = 0\n",
    "for i in range(1000000000 // 6):\n",
    "    result += 6 * i\n",
    "    cnt += 1\n",
    "    if n <= result:\n",
    "        break\n",
    "if n == 1:\n",
    "    print(1)\n",
    "else:\n",
    "    print(cnt)"
   ]
  },
  {
   "cell_type": "markdown",
   "id": "48ba78c9",
   "metadata": {},
   "source": [
    "# 1193 분수찾기\n",
    "무한히 큰 배열에 다음과 같이 분수들이 적혀있다.\n",
    "\n",
    "|||||||\n",
    "|---|---|---|---|---|---|\n",
    "| 1/1 |\t1/2 | 1/3 | 1/4 | 1/5 | … |\n",
    "| 2/1 | 2/2 | 2/3 | 2/4 | … | … |\n",
    "| 3/1 | 3/2 | 3/3 |\t… | … | … |\n",
    "| 4/1 | 4/2 | … | … | … | … |\n",
    "| 5/1 | … | … | … | … | … |\n",
    "| … | … | … | … | … | … |\n",
    "\n",
    "이와 같이 나열된 분수들을 1/1 → 1/2 → 2/1 → 3/1 → 2/2 → … 과 같은 지그재그 순서로 차례대로 1번, 2번, 3번, 4번, 5번, … 분수라고 하자.\n",
    "\n",
    "X가 주어졌을 때, X번째 분수를 구하는 프로그램을 작성하시오.\n",
    "### 입력\n",
    "- 첫째 줄에 X(1 ≤ X ≤ 10,000,000)가 주어진다.\n",
    "### 출력\n",
    "- 첫째 줄에 분수를 출력한다.\n",
    "### 예제 입력 1\n",
    "- 1\n",
    "### 예제 출력 1\n",
    "- 1/1\n",
    "### 예제 입력 2\n",
    "- 2\n",
    "### 예제 출력 2\n",
    "- 1/2"
   ]
  },
  {
   "cell_type": "code",
   "execution_count": null,
   "id": "6d112f18",
   "metadata": {},
   "outputs": [],
   "source": []
  },
  {
   "cell_type": "markdown",
   "id": "a98df8c2",
   "metadata": {},
   "source": [
    "# 2869 달팽이는 올라가고 싶다\n",
    "땅 위에 달팽이가 있다. 이 달팽이는 높이가 V미터인 나무 막대를 올라갈 것이다.<br>\n",
    "\n",
    "달팽이는 낮에 A미터 올라갈 수 있다. 하지만, 밤에 잠을 자는 동안 B미터 미끄러진다. 또, 정상에 올라간 후에는 미끄러지지 않는다.<br>\n",
    "\n",
    "달팽이가 나무 막대를 모두 올라가려면, 며칠이 걸리는지 구하는 프로그램을 작성하시오.<br>\n",
    "\n",
    "\n",
    "### 입력\n",
    "- 첫째 줄에 세 정수 A, B, V가 공백으로 구분되어서 주어진다. (1 ≤ B < A ≤ V ≤ 1,000,000,000)<br>\n",
    "### 출력\n",
    "- 첫째 줄에 달팽이가 나무 막대를 모두 올라가는데 며칠이 걸리는지 출력한다.<br>\n",
    "### 예제 입력 1\n",
    "- 2 1 5<br>\n",
    "### 예제 출력 1\n",
    "- 4<br>\n",
    "### 예제 입력 2\n",
    "- 5 1 6<br>\n",
    "### 예제 출력 2\n",
    "- 2<br>"
   ]
  },
  {
   "cell_type": "code",
   "execution_count": 128,
   "id": "3e9e19e5",
   "metadata": {},
   "outputs": [
    {
     "name": "stdout",
     "output_type": "stream",
     "text": [
      "5 1 6\n",
      "2\n"
     ]
    }
   ],
   "source": [
    "import math\n",
    "\n",
    "a, b, v = map(int, input().split())\n",
    "\n",
    "print(math.ceil((v - b) / (a - b)))"
   ]
  }
 ],
 "metadata": {
  "kernelspec": {
   "display_name": "Python 3",
   "language": "python",
   "name": "python3"
  },
  "language_info": {
   "codemirror_mode": {
    "name": "ipython",
    "version": 3
   },
   "file_extension": ".py",
   "mimetype": "text/x-python",
   "name": "python",
   "nbconvert_exporter": "python",
   "pygments_lexer": "ipython3",
   "version": "3.8.8"
  },
  "toc": {
   "base_numbering": 1,
   "nav_menu": {},
   "number_sections": true,
   "sideBar": true,
   "skip_h1_title": false,
   "title_cell": "Table of Contents",
   "title_sidebar": "Contents",
   "toc_cell": false,
   "toc_position": {},
   "toc_section_display": true,
   "toc_window_display": false
  }
 },
 "nbformat": 4,
 "nbformat_minor": 5
}
