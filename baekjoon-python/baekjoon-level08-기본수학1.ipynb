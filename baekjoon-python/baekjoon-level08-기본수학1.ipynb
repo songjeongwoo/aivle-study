{
 "cells": [
  {
   "cell_type": "markdown",
   "id": "dceec638",
   "metadata": {},
   "source": [
    "# 1712 손익분기점\n",
    "월드전자는 노트북을 제조하고 판매하는 회사이다. 노트북 판매 대수에 상관없이 매년 임대료, 재산세, 보험료, 급여 등 A만원의 고정 비용이 들며, 한 대의 노트북을 생산하는 데에는 재료비와 인건비 등 총 B만원의 가변 비용이 든다고 한다.\n",
    "\n",
    "예를 들어 A=1,000, B=70이라고 하자. 이 경우 노트북을 한 대 생산하는 데는 총 1,070만원이 들며, 열 대 생산하는 데는 총 1,700만원이 든다.\n",
    "\n",
    "노트북 가격이 C만원으로 책정되었다고 한다. 일반적으로 생산 대수를 늘려 가다 보면 어느 순간 총 수입(판매비용)이 총 비용(=고정비용+가변비용)보다 많아지게 된다. 최초로 총 수입이 총 비용보다 많아져 이익이 발생하는 지점을 손익분기점(BREAK-EVEN POINT)이라고 한다.\n",
    "\n",
    "A, B, C가 주어졌을 때, 손익분기점을 구하는 프로그램을 작성하시오.\n",
    "### 입력\n",
    "- 첫째 줄에 A, B, C가 빈 칸을 사이에 두고 순서대로 주어진다. A, B, C는 21억 이하의 자연수이다.\n",
    "### 출력\n",
    "- 첫 번째 줄에 손익분기점 즉 최초로 이익이 발생하는 판매량을 출력한다. 손익분기점이 존재하지 않으면 -1을 출력한다.\n",
    "### 예제 입력 1\n",
    "- 1000 70 170\n",
    "### 예제 출력 1\n",
    "- 11\n",
    "### 예제 입력 2\n",
    "- 3 2 1\n",
    "### 예제 출력 2\n",
    "- -1"
   ]
  },
  {
   "cell_type": "code",
   "execution_count": 30,
   "id": "05c9ed65",
   "metadata": {},
   "outputs": [
    {
     "name": "stdout",
     "output_type": "stream",
     "text": [
      "2100000000 9 10\n",
      "2100000001\n"
     ]
    }
   ],
   "source": [
    "a, b, c = map(int, input().split())\n",
    "if (c-b != 0) and (a/(c-b) > 0):  # a / (c-b) < x => 고정비용 / (개당 판매가격 - 가변비용) < x\n",
    "    print(int(a/(c-b) + 1))\n",
    "else:\n",
    "    print(-1)"
   ]
  },
  {
   "cell_type": "markdown",
   "id": "c02417e4",
   "metadata": {},
   "source": [
    "# 2292 벌집\n",
    "<img src=\"https://www.acmicpc.net/JudgeOnline/upload/201009/3(2).png\" width = 300;><br>\n",
    "위의 그림과 같이 육각형으로 이루어진 벌집이 있다. 그림에서 보는 바와 같이 중앙의 방 1부터 시작해서 이웃하는 방에 돌아가면서 1씩 증가하는 번호를 주소로 매길 수 있다. 숫자 N이 주어졌을 때, 벌집의 중앙 1에서 N번 방까지 최소 개수의 방을 지나서 갈 때 몇 개의 방을 지나가는지(시작과 끝을 포함하여)를 계산하는 프로그램을 작성하시오. 예를 들면, 13까지는 3개, 58까지는 5개를 지난다.\n",
    "\n",
    "### 입력\n",
    "- 첫째 줄에 N(1 ≤ N ≤ 1,000,000,000)이 주어진다.\n",
    "\n",
    "### 출력\n",
    "- 입력으로 주어진 방까지 최소 개수의 방을 지나서 갈 때 몇 개의 방을 지나는지 출력한다.\n",
    "\n",
    "### 예제 입력 1 \n",
    "- 13\n",
    "\n",
    "### 예제 출력 1 \n",
    "- 3"
   ]
  },
  {
   "cell_type": "code",
   "execution_count": 59,
   "id": "e1c0ae04",
   "metadata": {},
   "outputs": [
    {
     "name": "stdout",
     "output_type": "stream",
     "text": [
      "1\n",
      "1\n"
     ]
    }
   ],
   "source": [
    "# 6*0 = 1 -> 6*1 = 6개 -> 6*2 = 12개 -> 6*3 = 18개 -> 6*4 = 24개\n",
    "n = int(input())\n",
    "result = 1\n",
    "cnt = 0\n",
    "for i in range(1000000000 // 6):\n",
    "    result += 6 * i\n",
    "    cnt += 1\n",
    "    if n <= result:\n",
    "        break\n",
    "if n == 1:\n",
    "    print(1)\n",
    "else:\n",
    "    print(cnt)"
   ]
  },
  {
   "cell_type": "markdown",
   "id": "48ba78c9",
   "metadata": {},
   "source": [
    "# <font color='red'>$\\star$</font>1193 분수찾기\n",
    "무한히 큰 배열에 다음과 같이 분수들이 적혀있다.\n",
    "\n",
    "|||||||\n",
    "|---|---|---|---|---|---|\n",
    "| 1/1 |\t1/2 | 1/3 | 1/4 | 1/5 | … |\n",
    "| 2/1 | 2/2 | 2/3 | 2/4 | … | … |\n",
    "| 3/1 | 3/2 | 3/3 |\t… | … | … |\n",
    "| 4/1 | 4/2 | … | … | … | … |\n",
    "| 5/1 | … | … | … | … | … |\n",
    "| … | … | … | … | … | … |\n",
    "\n",
    "이와 같이 나열된 분수들을 1/1 → 1/2 → 2/1 → 3/1 → 2/2 → … 과 같은 지그재그 순서로 차례대로 1번, 2번, 3번, 4번, 5번, … 분수라고 하자.\n",
    "\n",
    "X가 주어졌을 때, X번째 분수를 구하는 프로그램을 작성하시오.\n",
    "### 입력\n",
    "- 첫째 줄에 X(1 ≤ X ≤ 10,000,000)가 주어진다.\n",
    "### 출력\n",
    "- 첫째 줄에 분수를 출력한다.\n",
    "### 예제 입력 1\n",
    "- 1\n",
    "### 예제 출력 1\n",
    "- 1/1\n",
    "### 예제 입력 2\n",
    "- 2\n",
    "### 예제 출력 2\n",
    "- 1/2"
   ]
  },
  {
   "cell_type": "code",
   "execution_count": 2,
   "id": "932f5a30",
   "metadata": {},
   "outputs": [
    {
     "name": "stdout",
     "output_type": "stream",
     "text": [
      "2\n",
      "1/2\n"
     ]
    }
   ],
   "source": [
    "n = int(input())\n",
    "\n",
    "line = 0\n",
    "end = 0\n",
    "while n > end:\n",
    "    line += 1\n",
    "    end += line\n",
    "\n",
    "diff = end - n\n",
    "if line%2 == 0: #짝수 라인 일때\n",
    "    top = line - diff\n",
    "    bottom = diff + 1\n",
    "else:\n",
    "    top = diff + 1\n",
    "    bottom = line - diff\n",
    "\n",
    "print(\"%d/%d\"%(top,bottom))"
   ]
  },
  {
   "cell_type": "markdown",
   "id": "a98df8c2",
   "metadata": {},
   "source": [
    "# <font color='red'>$\\star$</font>2869 달팽이는 올라가고 싶다\n",
    "땅 위에 달팽이가 있다. 이 달팽이는 높이가 V미터인 나무 막대를 올라갈 것이다.<br>\n",
    "\n",
    "달팽이는 낮에 A미터 올라갈 수 있다. 하지만, 밤에 잠을 자는 동안 B미터 미끄러진다. 또, 정상에 올라간 후에는 미끄러지지 않는다.<br>\n",
    "\n",
    "달팽이가 나무 막대를 모두 올라가려면, 며칠이 걸리는지 구하는 프로그램을 작성하시오.<br>\n",
    "\n",
    "\n",
    "### 입력\n",
    "- 첫째 줄에 세 정수 A, B, V가 공백으로 구분되어서 주어진다. (1 ≤ B < A ≤ V ≤ 1,000,000,000)<br>\n",
    "### 출력\n",
    "- 첫째 줄에 달팽이가 나무 막대를 모두 올라가는데 며칠이 걸리는지 출력한다.<br>\n",
    "### 예제 입력 1\n",
    "- 2 1 5<br>\n",
    "### 예제 출력 1\n",
    "- 4<br>\n",
    "### 예제 입력 2\n",
    "- 5 1 6<br>\n",
    "### 예제 출력 2\n",
    "- 2<br>"
   ]
  },
  {
   "cell_type": "code",
   "execution_count": 128,
   "id": "2db7fe35",
   "metadata": {},
   "outputs": [
    {
     "name": "stdout",
     "output_type": "stream",
     "text": [
      "5 1 6\n",
      "2\n"
     ]
    }
   ],
   "source": [
    "import math\n",
    "\n",
    "a, b, v = map(int, input().split())\n",
    "\n",
    "print(math.ceil((v - b) / (a - b)))"
   ]
  },
  {
   "cell_type": "markdown",
   "id": "96d3a263",
   "metadata": {},
   "source": [
    "# 10250 ACM 호텔\n",
    "\n",
    "ACM 호텔 매니저 지우는 손님이 도착하는 대로 빈 방을 배정하고 있다. 고객 설문조사에 따르면 손님들은 호텔 정문으로부터 걸어서 가장 짧은 거리에 있는 방을 선호한다고 한다. 여러분은 지우를 도와 줄 프로그램을 작성하고자 한다. 즉 설문조사 결과 대로 호텔 정문으로부터 걷는 거리가 가장 짧도록 방을 배정하는 프로그램을 작성하고자 한다.<br>\n",
    "\n",
    "<img src='https://www.acmicpc.net/upload/images2/acmhotel.png'><br>\n",
    "\n",
    "문제를 단순화하기 위해서 호텔은 직사각형 모양이라고 가정하자. 각 층에 W 개의 방이 있는 H 층 건물이라고 가정하자 (1 ≤ H, W ≤ 99). 그리고 엘리베이터는 가장 왼쪽에 있다고 가정하자(그림 1 참고). 이런 형태의 호텔을 H × W 형태 호텔이라고 부른다. 호텔 정문은 일층 엘리베이터 바로 앞에 있는데, 정문에서 엘리베이터까지의 거리는 무시한다. 또 모든 인접한 두 방 사이의 거리는 같은 거리(거리 1)라고 가정하고 호텔의 정면 쪽에만 방이 있다고 가정한다.<br>\n",
    "\n",
    "<img src='https://www.acmicpc.net/upload/images2/elevator.png'><br>\n",
    "$$그림 1. H = 6 이고 W = 12 인 H × W 호텔을 간략하게 나타낸 그림$$\n",
    "<br>\n",
    "방 번호는 YXX 나 YYXX 형태인데 여기서 Y 나 YY 는 층 수를 나타내고 XX 는 엘리베이터에서부터 세었을 때의 번호를 나타낸다. 즉, 그림 1 에서 빗금으로 표시한 방은 305 호가 된다.<br>\n",
    "\n",
    "손님은 엘리베이터를 타고 이동하는 거리는 신경 쓰지 않는다. 다만 걷는 거리가 같을 때에는 아래층의 방을 더 선호한다. 예를 들면 102 호 방보다는 301 호 방을 더 선호하는데, 102 호는 거리 2 만큼 걸어야 하지만 301 호는 거리 1 만큼만 걸으면 되기 때문이다. 같은 이유로 102 호보다 2101 호를 더 선호한다.<br>\n",
    "\n",
    "여러분이 작성할 프로그램은 초기에 모든 방이 비어있다고 가정하에 이 정책에 따라 N 번째로 도착한 손님에게 배정될 방 번호를 계산하는 프로그램이다. 첫 번째 손님은 101 호, 두 번째 손님은 201 호 등과 같이 배정한다. 그림 1 의 경우를 예로 들면, H = 6이므로 10 번째 손님은 402 호에 배정해야 한다.<br>\n",
    "\n",
    "### 입력<br>\n",
    "- 프로그램은 표준 입력에서 입력 데이터를 받는다. 프로그램의 입력은 T 개의 테스트 데이터로 이루어져 있는데 T 는 입력의 맨 첫 줄에 주어진다. 각 테스트 데이터는 한 행으로서 H, W, N, 세 정수를 포함하고 있으며 각각 호텔의 층 수, 각 층의 방 수, 몇 번째 손님인지를 나타낸다(1 ≤ H, W ≤ 99, 1 ≤ N ≤ H × W). <br>\n",
    "\n",
    "### 출력<br>\n",
    "- 프로그램은 표준 출력에 출력한다. 각 테스트 데이터마다 정확히 한 행을 출력하는데, 내용은 N 번째 손님에게 배정되어야 하는 방 번호를 출력한다.<br>\n",
    "\n",
    "### 예제 입력 1<br>\n",
    "- 2<br>\n",
    "- 6 12 10<br>\n",
    "- 30 50 72<br>\n",
    "\n",
    "### 예제 출력 1<br>\n",
    "- 402<br>\n",
    "- 1203<br>\n",
    "\n",
    "### 출처\n",
    "ICPC > Regionals > Asia Pacific > Korea > Nationwide Internet Competition > Daejeon Nationalwide Internet Competition 2014 A번<br>\n",
    "\n",
    "- 데이터를 만든 사람: baekjoon<br>\n",
    "- 어색한 표현을 찾은 사람: hidonggi<br>\n",
    "- 문제의 오타를 찾은 사람: joonas, startup<br>"
   ]
  },
  {
   "cell_type": "code",
   "execution_count": 150,
   "id": "6360f525",
   "metadata": {},
   "outputs": [
    {
     "name": "stdout",
     "output_type": "stream",
     "text": [
      "3\n",
      "6 12 72\n",
      "612\n",
      "6 12 71\n",
      "512\n",
      "6 12 6\n",
      "601\n"
     ]
    }
   ],
   "source": [
    "t = int(input())\n",
    "for _ in range(t):\n",
    "    h, w, n = map(int, input().split())\n",
    "    \n",
    "    # 층\n",
    "    if n % h == 0:\n",
    "        a = h\n",
    "    else:\n",
    "        a = n % h\n",
    "    \n",
    "    # 호\n",
    "    if n % h == 0:\n",
    "        b = (n-1) // h + 1\n",
    "    else:\n",
    "        b = n // h + 1\n",
    "    \n",
    "    if b >= 10:\n",
    "        print(int(str(a) + str(b)))\n",
    "    else:\n",
    "        print(int(str(a) + str(0) + str(b)))"
   ]
  },
  {
   "cell_type": "markdown",
   "id": "455a8109",
   "metadata": {},
   "source": [
    "# <font color='red'>$\\star$</font>2775 부녀회장이 될테야\n",
    "\n",
    "평소 반상회에 참석하는 것을 좋아하는 주희는 이번 기회에 부녀회장이 되고 싶어 각 층의 사람들을 불러 모아 반상회를 주최하려고 한다.<br>\n",
    "\n",
    "이 아파트에 거주를 하려면 조건이 있는데, “a층의 b호에 살려면 자신의 아래(a-1)층의 1호부터 b호까지 사람들의 수의 합만큼 사람들을 데려와 살아야 한다” 는 계약 조항을 꼭 지키고 들어와야 한다.<br>\n",
    "\n",
    "아파트에 비어있는 집은 없고 모든 거주민들이 이 계약 조건을 지키고 왔다고 가정했을 때, 주어지는 양의 정수 k와 n에 대해 k층에 n호에는 몇 명이 살고 있는지 출력하라. 단, 아파트에는 0층부터 있고 각층에는 1호부터 있으며, 0층의 i호에는 i명이 산다.<br>\n",
    "\n",
    "### 입력<br>\n",
    "- 첫 번째 줄에 Test case의 수 T가 주어진다. 그리고 각각의 케이스마다 입력으로 첫 번째 줄에 정수 k, 두 번째 줄에 정수 n이 주어진다<br>\n",
    "\n",
    "### 출력<br>\n",
    "- 각각의 Test case에 대해서 해당 집에 거주민 수를 출력하라.<br>\n",
    "\n",
    "### 제한<br>\n",
    "- 1 ≤ k, n ≤ 14<br>\n",
    "\n",
    "### 예제 입력 1<br>\n",
    "- 2<br>\n",
    "- 1<br>\n",
    "- 3<br>\n",
    "- 2<br>\n",
    "- 3<br>\n",
    "\n",
    "### 예제 출력 1<br>\n",
    "- 6<br>\n",
    "- 10<br>\n",
    "\n",
    "### 출처\n",
    "- 문제의 오타를 찾은 사람: apjw6112, seecimi, sunhong<br>\n",
    "- 어색한 표현을 찾은 사람: veydpz<br>\n",
    "\n",
    "### 알고리즘 분류\n",
    "- 수학<br>\n",
    "- 구현<br>"
   ]
  },
  {
   "cell_type": "code",
   "execution_count": 173,
   "id": "a6ec3de2",
   "metadata": {},
   "outputs": [
    {
     "name": "stdout",
     "output_type": "stream",
     "text": [
      "2\n",
      "1\n",
      "3\n",
      "6\n",
      "4\n",
      "4\n",
      "56\n"
     ]
    }
   ],
   "source": [
    "t = int(input())\n",
    "for _ in range(t):\n",
    "    floor = int(input())  # 층\n",
    "    n = int(input())  # 호\n",
    "    people = [person for person in range(1, n+1)]  # 0층 거주민 수\n",
    "    \n",
    "    for k in range(floor):  # 층 수만큼 반복\n",
    "        for i in range(1, n):  # people의 인덱스 1 ~ n-1까지, n-1이 n호\n",
    "            people[i] += people[i-1]  # 핵심 코드\n",
    "    print(people[-1])  # k층 n호 출력\n",
    "    \n",
    "'''\n",
    "ex) 4층 4호 예시\n",
    "4층 1 6 21 56\n",
    "3층 1 5 15 35\n",
    "2층 1 4 10 20\n",
    "1층 1 3 6  10\n",
    "0층 1 2 3  4\n",
    "'''"
   ]
  },
  {
   "cell_type": "markdown",
   "id": "cba2d1ab",
   "metadata": {},
   "source": [
    "# 2839 설탕 배탈\n",
    "\n",
    "상근이는 요즘 설탕공장에서 설탕을 배달하고 있다. 상근이는 지금 사탕가게에 설탕을 정확하게 N킬로그램을 배달해야 한다. 설탕공장에서 만드는 설탕은 봉지에 담겨져 있다. 봉지는 3킬로그램 봉지와 5킬로그램 봉지가 있다.<br>\n",
    "\n",
    "상근이는 귀찮기 때문에, 최대한 적은 봉지를 들고 가려고 한다. 예를 들어, 18킬로그램 설탕을 배달해야 할 때, 3킬로그램 봉지 6개를 가져가도 되지만, 5킬로그램 3개와 3킬로그램 1개를 배달하면, 더 적은 개수의 봉지를 배달할 수 있다.<br>\n",
    "\n",
    "상근이가 설탕을 정확하게 N킬로그램 배달해야 할 때, 봉지 몇 개를 가져가면 되는지 그 수를 구하는 프로그램을 작성하시오.<br>\n",
    "\n",
    "### 입력<br>\n",
    "- 첫째 줄에 N이 주어진다. (3 ≤ N ≤ 5000)<br>\n",
    "\n",
    "### 출력<br>\n",
    "- 상근이가 배달하는 봉지의 최소 개수를 출력한다. 만약, 정확하게 N킬로그램을 만들 수 없다면 -1을 출력한다.<br>\n",
    "\n",
    "### 예제 입력 1<br>\n",
    "- 18<br>\n",
    "\n",
    "### 예제 출력 1<br>\n",
    "- 4<br>\n",
    "\n",
    "### 예제 입력 2<br>\n",
    "- 4<br>\n",
    "\n",
    "### 예제 출력 2<br>\n",
    "- -1<br>\n",
    "\n",
    "### 출처\n",
    "Contest > Croatian Open Competition in Informatics > COCI 2010/2011 > Contest #7 1번\n",
    "- 문제를 번역한 사람: baekjoon<br>\n",
    "- 데이터를 추가한 사람: hyunynim, jh05013<br>\n",
    "\n",
    "### 알고리즘 분류\n",
    "- 수학<br>\n",
    "- 다이나믹 프로그래밍<br>\n",
    "- 그리디 알고리즘<br>"
   ]
  },
  {
   "cell_type": "markdown",
   "id": "e53c029c",
   "metadata": {},
   "source": [
    "<hr>\n",
    "\n",
    "**문제 해결 아이디어: 다이나믹 프로그래밍**\n",
    "- $a_{i}$ = 설탕 $i$ kg를 만들 수 있는 최소한의 봉지 개수\n",
    "- $k$ = 각 봉지의 단위(크기)\n",
    "- **점화식**: 각 봉지 단위인 k를 <font color='red'>하나씩 확인하며</font>\n",
    "    - $a_{i-k}$를 만드는 방법이 존재하는 경우, $a_{i} \\; = \\; min(a_{i}, \\, a_{i-k} \\, + \\, 1)$\n",
    "    - $a_{i-k}$를 만드는 방법이 존재하지 않는 경우, $a_{i} \\; = \\; INF$"
   ]
  },
  {
   "cell_type": "code",
   "execution_count": 12,
   "id": "6336ec4b",
   "metadata": {},
   "outputs": [
    {
     "name": "stdout",
     "output_type": "stream",
     "text": [
      "18\n",
      "4\n"
     ]
    }
   ],
   "source": [
    "n = int(input())\n",
    "\n",
    "array = [3, 5]  # 봉지 무게\n",
    "d = [5001] * (n + 1)\n",
    "\n",
    "d[0] = 0\n",
    "for i in range(len(array)):  # 각각의 봉지 단위\n",
    "    for j in range(array[i], n + 1):\n",
    "        if d[j - array[i]] != 5001:  # (i - k)kg을 만드는 방법이 존재하는 경우\n",
    "            d[j] = min(d[j], d[j - array[i]] + 1)\n",
    "\n",
    "# 계산된 결과 출력\n",
    "if d[n] == 5001:\n",
    "    print(-1)\n",
    "else:\n",
    "    print(d[n])"
   ]
  },
  {
   "cell_type": "markdown",
   "id": "9f4e54d7",
   "metadata": {},
   "source": [
    "# 10757 큰 수 A+B\n",
    "\n",
    "두 정수 A와 B를 입력받은 다음, A+B를 출력하는 프로그램을 작성하시오.<br>\n",
    "\n",
    "### 입력<br>\n",
    "- 첫째 줄에 A와 B가 주어진다. (0 < A,B < $10^{10000}$)<br>\n",
    "\n",
    "### 출력<br>\n",
    "- 첫째 줄에 A+B를 출력한다.<br>\n",
    "\n",
    "### 예제 입력 1<br>\n",
    "- 9223372036854775807 9223372036854775808<br>\n",
    "\n",
    "### 예제 출력 1<br>\n",
    "- 18446744073709551615<br>\n",
    "\n",
    "### 출처\n",
    "- 문제를 만든 사람: baekjoon<br>\n",
    "- 데이터를 추가한 사람: dlaud5379, gcon16<br>\n",
    "- 문제의 오타를 찾은 사람: jh05013\n",
    "\n",
    "### 알고리즘 분류\n",
    "- 수학<br>\n",
    "- 구현<br>\n",
    "- 사칙연산<br>\n",
    "- 임의 정밀도 / 큰 수 연산<br>"
   ]
  },
  {
   "cell_type": "code",
   "execution_count": 1,
   "id": "7360c578",
   "metadata": {},
   "outputs": [
    {
     "name": "stdout",
     "output_type": "stream",
     "text": [
      "9223372036854775807 9223372036854775808\n",
      "18446744073709551615\n"
     ]
    }
   ],
   "source": [
    "a, b = map(int, input().split())\n",
    "print(a + b)"
   ]
  }
 ],
 "metadata": {
  "kernelspec": {
   "display_name": "Python 3",
   "language": "python",
   "name": "python3"
  },
  "language_info": {
   "codemirror_mode": {
    "name": "ipython",
    "version": 3
   },
   "file_extension": ".py",
   "mimetype": "text/x-python",
   "name": "python",
   "nbconvert_exporter": "python",
   "pygments_lexer": "ipython3",
   "version": "3.8.8"
  },
  "toc": {
   "base_numbering": 1,
   "nav_menu": {},
   "number_sections": true,
   "sideBar": true,
   "skip_h1_title": false,
   "title_cell": "Table of Contents",
   "title_sidebar": "Contents",
   "toc_cell": false,
   "toc_position": {},
   "toc_section_display": true,
   "toc_window_display": false
  }
 },
 "nbformat": 4,
 "nbformat_minor": 5
}
