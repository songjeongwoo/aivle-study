{
 "cells": [
  {
   "cell_type": "markdown",
   "id": "883c9830",
   "metadata": {},
   "source": [
    "## 11654 아스키 코드\n",
    "알파벳 소문자, 대문자, 숫자 0-9중 하나가 주어졌을 때, 주어진 글자의 아스키 코드값을 출력하는 프로그램을 작성하시오.\n",
    "### 입력\n",
    "- 알파벳 소문자, 대문자, 숫자 0-9 중 하나가 첫째 줄에 주어진다.\n",
    "### 출력\n",
    "- 입력으로 주어진 글자의 아스키 코드 값을 출력한다. \n",
    "### 예제 입력 1\n",
    "- A\n",
    "### 예제 출력 1\n",
    "- 65\n",
    "### 예제 입력 2\n",
    "- 0\n",
    "### 예제 출력 2\n",
    "- 48"
   ]
  },
  {
   "cell_type": "code",
   "execution_count": 1,
   "id": "d64a10d0",
   "metadata": {},
   "outputs": [
    {
     "name": "stdout",
     "output_type": "stream",
     "text": [
      "0\n",
      "48\n"
     ]
    }
   ],
   "source": [
    "# 0 ~ 9 : 48 ~ 57\n",
    "# A ~ Z : 65 ~ 90\n",
    "# a ~ Z : 97 ~ 122\n",
    "\n",
    "n = input()\n",
    "print(ord(n)) # ord는 인자를 아스키 코드로 변환시켜준다, 단 인자로는 문자(한글자)만 올 수 있다.\n",
    "        "
   ]
  },
  {
   "cell_type": "markdown",
   "id": "22417387",
   "metadata": {},
   "source": [
    "## 11720 숫자의 합\n",
    "N개의 숫자가 공백 없이 쓰여있다. 이 숫자를 모두 합해서 출력하는 프로그램을 작성하시오.\n",
    "### 입력\n",
    "- 첫째 줄에 숫자의 개수 N (1 ≤ N ≤ 100)이 주어진다. 둘째 줄에 숫자 N개가 공백없이 주어진다.\n",
    "### 출력\n",
    "- 입력으로 주어진 숫자 N개의 합을 출력한다.\n",
    "### 예제 입력 1\n",
    "- 1\n",
    "- 1\n",
    "### 예제 출력 1\n",
    "- 1\n",
    "### 예제 입력 2\n",
    "- 5\n",
    "- 54321\n",
    "### 예제 출력 2\n",
    "- 15"
   ]
  },
  {
   "cell_type": "code",
   "execution_count": 2,
   "id": "798125cc",
   "metadata": {},
   "outputs": [
    {
     "name": "stdout",
     "output_type": "stream",
     "text": [
      "5\n",
      "54321\n",
      "15\n"
     ]
    }
   ],
   "source": [
    "n = input()\n",
    "m = input()\n",
    "summ =0\n",
    "\n",
    "for i in m:\n",
    "    summ += int(i)\n",
    "\n",
    "print(summ)"
   ]
  },
  {
   "cell_type": "markdown",
   "id": "f3596db6",
   "metadata": {},
   "source": [
    "## 10809 알파벳 찾기\n",
    "알파벳 소문자로만 이루어진 단어 S가 주어진다. 각각의 알파벳에 대해서, 단어에 포함되어 있는 경우에는 처음 등장하는 위치를, 포함되어 있지 않은 경우에는 -1을 출력하는 프로그램을 작성하시오.\n",
    "### 입력\n",
    "- 첫째 줄에 단어 S가 주어진다. 단어의 길이는 100을 넘지 않으며, 알파벳 소문자로만 이루어져 있다.\n",
    "### 출력\n",
    "- 각각의 알파벳에 대해서, a가 처음 등장하는 위치, b가 처음 등장하는 위치, ... z가 처음 등장하는 위치를 공백으로 구분해서 출력한다.\n",
    "- 만약, 어떤 알파벳이 단어에 포함되어 있지 않다면 -1을 출력한다. 단어의 첫 번째 글자는 0번째 위치이고, 두 번째 글자는 1번째 위치이다.\n",
    "### 예제 입력 1\n",
    "- baekjoon\n",
    "### 예제 출력 1\n",
    "- 1 0 -1 -1 2 -1 -1 -1 -1 4 3 -1 -1 7 5 -1 -1 -1 -1 -1 -1 -1 -1 -1 -1 -1"
   ]
  },
  {
   "cell_type": "code",
   "execution_count": 13,
   "id": "62f19bac",
   "metadata": {},
   "outputs": [
    {
     "name": "stdout",
     "output_type": "stream",
     "text": [
      "baekjoon\n",
      "1 0 -1 -1 2 -1 -1 -1 -1 4 3 -1 -1 7 5 -1 -1 -1 -1 -1 -1 -1 -1 -1 -1 -1 baekjoon\n",
      "1 0 -1 -1 2 -1 -1 -1 -1 4 3 -1 -1 7 5 -1 -1 -1 -1 -1 -1 -1 -1 -1 -1 -1 "
     ]
    }
   ],
   "source": [
    "s = input()\n",
    "dic_a = {'a': -1, 'b': -1, 'c': -1, 'd': -1, 'e': -1, 'f': -1, 'g': -1,\n",
    "              'h': -1, 'i': -1, 'j': -1, 'k': -1, 'l': -1, 'm': -1, 'n': -1,\n",
    "              'o': -1, 'p': -1, 'q': -1, 'r': -1, 's': -1, 't': -1, 'u': -1,\n",
    "              'v': -1, 'w': -1, 'x': -1, 'y': -1, 'z': -1}\n",
    "\n",
    "for i, v in enumerate(s):\n",
    "    if dic_a[v] == -1:\n",
    "        dic_a[v] = i\n",
    "    else:\n",
    "        continue\n",
    "        \n",
    "for i in list(dic_a.values()):\n",
    "    print(i, end=' ')\n",
    "\n",
    "'''\n",
    "다른 사람 풀이:\n",
    "word = input()\n",
    "alphabet = list(range(97,123))  # 아스키코드 숫자 범위(a~z는 97~122)\n",
    "\n",
    "for x in alphabet :\n",
    "    print(word.find(chr(x)), end= ' ')\n",
    "# chr()는 아스키코드에 해당하는 숫자를 문자열로 변환시키는 함수\n",
    "# find()는 찾는 문자가 존재 한다면 해당 위치의 index를 반환해주고\n",
    "# 찾는 문자가 존재 하지 않는다면 -1 을 반환\n",
    "# 만약에 찾는 문자나 문자열이 여러개 있다면 맨 처음 찾은 문자의 index를 반환\n",
    "'''"
   ]
  },
  {
   "cell_type": "markdown",
   "id": "db2fc282",
   "metadata": {},
   "source": [
    "## 2675 문자열 반복\n",
    "문자열 S를 입력받은 후에, 각 문자를 R번 반복해 새 문자열 P를 만든 후 출력하는 프로그램을 작성하시오. 즉, 첫 번째 문자를 R번 반복하고, 두 번째 문자를 R번 반복하는 식으로 P를 만들면 된다. S에는 QR Code \"alphanumeric\" 문자만 들어있다.\n",
    "QR Code \"alphanumeric\" 문자는 0123456789ABCDEFGHIJKLMNOPQRSTUVWXYZ\\$%*+-./: 이다.\n",
    "### 입력\n",
    "- 첫째 줄에 테스트 케이스의 개수 T(1 ≤ T ≤ 1,000)가 주어진다. 각 테스트 케이스는 반복 횟수 R(1 ≤ R ≤ 8), 문자열 S가 공백으로 구분되어 주어진다. S의 길이는 적어도 1이며, 20글자를 넘지 않는다. \n",
    "### 출력\n",
    "- 각 테스트 케이스에 대해 P를 출력한다.\n",
    "### 예제 입력 1\n",
    "- 2\n",
    "- 3 ABC\n",
    "- 5 /HTP\n",
    "### 예제 출력 1\n",
    "- AAABBBCCC\n",
    "- /////HHHHHTTTTTPPPPP"
   ]
  },
  {
   "cell_type": "code",
   "execution_count": 32,
   "id": "c26597c9",
   "metadata": {},
   "outputs": [
    {
     "name": "stdout",
     "output_type": "stream",
     "text": [
      "2\n",
      "3 ABC\n",
      "AAABBBCCC\n",
      "5 /HTP\n",
      "/////HHHHHTTTTTPPPPP\n"
     ]
    }
   ],
   "source": [
    "t = int(input())\n",
    "for _ in range(t):\n",
    "    r, s = input().split()\n",
    "\n",
    "    for i in range(len(s)):\n",
    "        for _ in range(int(r)):\n",
    "            print(s[i], end='')\n",
    "    print()"
   ]
  },
  {
   "cell_type": "markdown",
   "id": "e9a2f4f8",
   "metadata": {},
   "source": [
    "## 1157 단어 공부\n",
    "알파벳 대소문자로 된 단어가 주어지면, 이 단어에서 가장 많이 사용된 알파벳이 무엇인지 알아내는 프로그램을 작성하시오. 단, 대문자와 소문자를 구분하지 않는다.\n",
    "### 입력\n",
    "- 첫째 줄에 알파벳 대소문자로 이루어진 단어가 주어진다. 주어지는 단어의 길이는 1,000,000을 넘지 않는다.\n",
    "### 출력\n",
    "- 첫째 줄에 이 단어에서 가장 많이 사용된 알파벳을 대문자로 출력한다. 단, 가장 많이 사용된 알파벳이 여러 개 존재하는 경우에는 ?를 출력한다.\n",
    "### 예제 입력 1\n",
    "- Mississipi\n",
    "### 예제 출력 1\n",
    "- ?\n",
    "### 예제 입력 2\n",
    "- zZa\n",
    "### 예제 출력 2\n",
    "- Z"
   ]
  },
  {
   "cell_type": "code",
   "execution_count": 1,
   "id": "86d79999",
   "metadata": {},
   "outputs": [
    {
     "name": "stdout",
     "output_type": "stream",
     "text": [
      "Mississipi\n",
      "?\n"
     ]
    }
   ],
   "source": [
    "from collections import Counter\n",
    "s = input()\n",
    "s = s.upper()\n",
    "s = sorted(s)\n",
    "cnt = Counter(s)\n",
    "if len(s) == 1:\n",
    "    print(s[0])\n",
    "else:\n",
    "    tmp = cnt.most_common(2)\n",
    "    if tmp[0][1] == tmp[1][1]:\n",
    "        print('?')\n",
    "    else:\n",
    "        print(tmp[0][0])"
   ]
  },
  {
   "cell_type": "markdown",
   "id": "bc254e99",
   "metadata": {},
   "source": [
    "## 1152 단어의 개수\n",
    "영어 대소문자와 공백으로 이루어진 문자열이 주어진다. 이 문자열에는 몇 개의 단어가 있을까? 이를 구하는 프로그램을 작성하시오. 단, 한 단어가 여러 번 등장하면 등장한 횟수만큼 모두 세어야 한다.\n",
    "### 입력\n",
    "- 첫 줄에 영어 대소문자와 공백으로 이루어진 문자열이 주어진다. 이 문자열의 길이는 1,000,000을 넘지 않는다. 단어는 공백 한 개로 구분되며, 공백이 연속해서 나오는 경우는 없다. 또한 문자열은 공백으로 시작하거나 끝날 수 있다.\n",
    "### 출력\n",
    "- 첫째 줄에 단어의 개수를 출력한다.\n",
    "### 예제 입력 1\n",
    "- The Curious Case of Benjamin Button\n",
    "### 예제 출력 1\n",
    "- 6"
   ]
  },
  {
   "cell_type": "code",
   "execution_count": 5,
   "id": "d2db49fe",
   "metadata": {},
   "outputs": [
    {
     "name": "stdout",
     "output_type": "stream",
     "text": [
      "The last character is a blank \n",
      "6\n"
     ]
    }
   ],
   "source": [
    "s = list(input().split())\n",
    "print(len(s))"
   ]
  },
  {
   "cell_type": "markdown",
   "id": "51492d8f",
   "metadata": {},
   "source": [
    "## 2908 상수\n",
    "상근이의 동생 상수는 수학을 정말 못한다. 상수는 숫자를 읽는데 문제가 있다. 이렇게 수학을 못하는 상수를 위해서 상근이는 수의 크기를 비교하는 문제를 내주었다. 상근이는 세 자리 수 두 개를 칠판에 써주었다. 그 다음에 크기가 큰 수를 말해보라고 했다.\n",
    "\n",
    "상수는 수를 다른 사람과 다르게 거꾸로 읽는다. 예를 들어, 734와 893을 칠판에 적었다면, 상수는 이 수를 437과 398로 읽는다. 따라서, 상수는 두 수중 큰 수인 437을 큰 수라고 말할 것이다.\n",
    "\n",
    "두 수가 주어졌을 때, 상수의 대답을 출력하는 프로그램을 작성하시오.\n",
    "### 입력\n",
    "- 첫째 줄에 상근이가 칠판에 적은 두 수 A와 B가 주어진다. 두 수는 같지 않은 세 자리 수이며, 0이 포함되어 있지 않다.\n",
    "### 출력\n",
    "- 첫째 줄에 상수의 대답을 출력한다. \n",
    "### 예제 입력 1\n",
    "- 734 893\n",
    "### 예제 출력 1\n",
    "- 437"
   ]
  },
  {
   "cell_type": "code",
   "execution_count": 24,
   "id": "e15ac629",
   "metadata": {},
   "outputs": [
    {
     "name": "stdout",
     "output_type": "stream",
     "text": [
      "734 893\n",
      "437\n"
     ]
    }
   ],
   "source": [
    "a, b = input().split()\n",
    "a_copy = int(a[::-1])\n",
    "b_copy = int(b[::-1])\n",
    "\n",
    "if a_copy > b_copy:\n",
    "    print(a_copy)\n",
    "else:\n",
    "    print(b_copy)"
   ]
  },
  {
   "cell_type": "markdown",
   "id": "0d5ad1d4",
   "metadata": {},
   "source": [
    "## 5622 다이얼\n",
    "상근이의 할머니는 아래 그림과 같이 오래된 다이얼 전화기를 사용한다.\n",
    "<br><img src=\"image/5622다이얼.png\" style=\"width: 300px;\"/><br>\n",
    "전화를 걸고 싶은 번호가 있다면, 숫자를 하나를 누른 다음에 금속 핀이 있는 곳 까지 시계방향으로 돌려야 한다. 숫자를 하나 누르면 다이얼이 처음 위치로 돌아가고, 다음 숫자를 누르려면 다이얼을 처음 위치에서 다시 돌려야 한다.\n",
    "\n",
    "숫자 1을 걸려면 총 2초가 필요하다. 1보다 큰 수를 거는데 걸리는 시간은 이보다 더 걸리며, 한 칸 옆에 있는 숫자를 걸기 위해선 1초씩 더 걸린다.\n",
    "\n",
    "상근이의 할머니는 전화 번호를 각 숫자에 해당하는 문자로 외운다. 즉, 어떤 단어를 걸 때, 각 알파벳에 해당하는 숫자를 걸면 된다. 예를 들어, UNUCIC는 868242와 같다.\n",
    "\n",
    "할머니가 외운 단어가 주어졌을 때, 이 전화를 걸기 위해서 필요한 최소 시간을 구하는 프로그램을 작성하시오.\n",
    "### 입력\n",
    "- 첫째 줄에 알파벳 대문자로 이루어진 단어가 주어진다. 단어의 길이는 2보다 크거나 같고, 15보다 작거나 같다.\n",
    "### 출력\n",
    "- 첫째 줄에 다이얼을 걸기 위해서 필요한 최소 시간을 출력한다.\n",
    "### 예제 입력 1\n",
    "- WA\n",
    "### 예제 출력 1\n",
    "- 13"
   ]
  },
  {
   "cell_type": "code",
   "execution_count": 26,
   "id": "d0c5cde9",
   "metadata": {},
   "outputs": [
    {
     "name": "stdout",
     "output_type": "stream",
     "text": [
      "WA\n",
      "13\n"
     ]
    }
   ],
   "source": [
    "s = input()\n",
    "result = 0\n",
    "for i in s:\n",
    "    if i in('A', 'B', 'C'):\n",
    "        result += 3\n",
    "    elif i in('D','E','F'):\n",
    "        result += 4\n",
    "    elif i in('G','H','I'):\n",
    "        result += 5\n",
    "    elif i in('J', 'K', 'L'):\n",
    "        result += 6\n",
    "    elif i in('M', 'N', 'O'):\n",
    "        result += 7\n",
    "    elif i in('P', 'Q', 'R', 'S'):\n",
    "        result += 8\n",
    "    elif i in('T', 'U', 'V'):\n",
    "        result += 9\n",
    "    else:\n",
    "        result += 10\n",
    "print(result)\n",
    "\n",
    "'''\n",
    "다른 사람 풀이:\n",
    "import sys\n",
    "input = sys.stdin.readline\n",
    "\n",
    "# 다이얼 넘버\n",
    "number_arr = ['ABC', 'DEF', 'GHI', 'JKL', 'MNO', 'PQRS', 'TUV', 'WXYZ']\n",
    "\n",
    "# 알파벳 입력\n",
    "li = list(input())\n",
    "\n",
    "# 걸리는 시간\n",
    "result = 0\n",
    "\n",
    "for i in li:\n",
    "    for j in number_arr:\n",
    "        # 만약에 입력 받은 값이 number_arr에 있으면 index에서 3초를 더해준다.\n",
    "        if i in j:\n",
    "            result += number_arr.index(j) + 3\n",
    "            \n",
    "print(result)\n",
    "'''"
   ]
  },
  {
   "cell_type": "markdown",
   "id": "64286fe8",
   "metadata": {},
   "source": [
    "## 2941 크로아티아 알파벳\n",
    "예전에는 운영체제에서 크로아티아 알파벳을 입력할 수가 없었다. 따라서, 다음과 같이 크로아티아 알파벳을 변경해서 입력했다.\n",
    "\n",
    "예를 들어, ljes=njak은 크로아티아 알파벳 6개(lj, e, š, nj, a, k)로 이루어져 있다. 단어가 주어졌을 때, 몇 개의 크로아티아 알파벳으로 이루어져 있는지 출력한다.\n",
    "\n",
    "dž는 무조건 하나의 알파벳으로 쓰이고, d와 ž가 분리된 것으로 보지 않는다. lj와 nj도 마찬가지이다. 위 목록에 없는 알파벳은 한 글자씩 센다.\n",
    "### 입력\n",
    "- 첫째 줄에 최대 100글자의 단어가 주어진다. 알파벳 소문자와 '-', '='로만 이루어져 있다.\n",
    "- 단어는 크로아티아 알파벳으로 이루어져 있다. 문제 설명의 표에 나와있는 알파벳은 변경된 형태로 입력된다.\n",
    "### 출력\n",
    "- 입력으로 주어진 단어가 몇 개의 크로아티아 알파벳으로 이루어져 있는지 출력한다.\n",
    "### 예제 입력 1\n",
    "- ljes=njak\n",
    "### 예제 출력 1\n",
    "- 6"
   ]
  },
  {
   "cell_type": "code",
   "execution_count": null,
   "id": "65b9ac8c",
   "metadata": {},
   "outputs": [],
   "source": []
  },
  {
   "cell_type": "markdown",
   "id": "c933f4ad",
   "metadata": {},
   "source": [
    "## 1316 그룹 단어 체커\n",
    "그룹 단어란 단어에 존재하는 모든 문자에 대해서, 각 문자가 연속해서 나타나는 경우만을 말한다. 예를 들면, ccazzzzbb는 c, a, z, b가 모두 연속해서 나타나고, kin도 k, i, n이 연속해서 나타나기 때문에 그룹 단어이지만, aabbbccb는 b가 떨어져서 나타나기 때문에 그룹 단어가 아니다.\n",
    "\n",
    "단어 N개를 입력으로 받아 그룹 단어의 개수를 출력하는 프로그램을 작성하시오.\n",
    "### 입력\n",
    "- 첫째 줄에 단어의 개수 N이 들어온다. N은 100보다 작거나 같은 자연수이다. 둘째 줄부터 N개의 줄에 단어가 들어온다. 단어는 알파벳 소문자로만 되어있고 중복되지 않으며, 길이는 최대 100이다.\n",
    "### 출력\n",
    "- 첫째 줄에 그룹 단어의 개수를 출력한다.\n",
    "### 예제 입력 1\n",
    "- 3\n",
    "- happy\n",
    "- new\n",
    "- year\n",
    "### 예제 출력 1\n",
    "- 3"
   ]
  },
  {
   "cell_type": "code",
   "execution_count": 26,
   "id": "24487f35",
   "metadata": {},
   "outputs": [
    {
     "name": "stdout",
     "output_type": "stream",
     "text": [
      "abc\n",
      "abc\n"
     ]
    }
   ],
   "source": [
    "answer = 'abc '\n",
    "print(answer[:-1])\n",
    "print(answer.rstrip())"
   ]
  },
  {
   "cell_type": "code",
   "execution_count": null,
   "id": "e5331682",
   "metadata": {},
   "outputs": [],
   "source": []
  }
 ],
 "metadata": {
  "kernelspec": {
   "display_name": "Python 3",
   "language": "python",
   "name": "python3"
  },
  "language_info": {
   "codemirror_mode": {
    "name": "ipython",
    "version": 3
   },
   "file_extension": ".py",
   "mimetype": "text/x-python",
   "name": "python",
   "nbconvert_exporter": "python",
   "pygments_lexer": "ipython3",
   "version": "3.8.8"
  }
 },
 "nbformat": 4,
 "nbformat_minor": 5
}
