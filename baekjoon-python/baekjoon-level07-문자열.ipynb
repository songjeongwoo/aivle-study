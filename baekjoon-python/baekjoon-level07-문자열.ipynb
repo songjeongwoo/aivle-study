{
 "cells": [
  {
   "cell_type": "markdown",
   "id": "e7c0cca0",
   "metadata": {},
   "source": [
    "# 아스키코드\n",
    "- 미국 ANSI에서 표준화한 정보교환용 7비트 부호체계"
   ]
  },
  {
   "cell_type": "code",
   "execution_count": 2,
   "id": "9881d477",
   "metadata": {},
   "outputs": [
    {
     "name": "stdout",
     "output_type": "stream",
     "text": [
      "A\n",
      "65\n"
     ]
    }
   ],
   "source": [
    "#아스키 코드\n",
    "c = input()\n",
    "print(ord(c))"
   ]
  },
  {
   "cell_type": "code",
   "execution_count": 6,
   "id": "fb182b3f",
   "metadata": {},
   "outputs": [
    {
     "name": "stdout",
     "output_type": "stream",
     "text": [
      "5\n",
      "54321\n",
      "15\n"
     ]
    }
   ],
   "source": [
    "#숫자의 합\n",
    "n=int(input())\n",
    "a=map(int,input())\n",
    "sum=0\n",
    "for i in a:\n",
    "    sum+=i\n",
    "print(sum)\n"
   ]
  },
  {
   "cell_type": "code",
   "execution_count": 10,
   "id": "b6480acd",
   "metadata": {},
   "outputs": [
    {
     "name": "stdout",
     "output_type": "stream",
     "text": [
      "baekjoon\n",
      "1 0 -1 -1 2 -1 -1 -1 -1 4 3 -1 -1 7 5 -1 -1 -1 -1 -1 -1 -1 -1 -1 -1 -1 "
     ]
    }
   ],
   "source": [
    "#알파벳 찾기\n",
    "apb='abcdefghijklmnopqrstuvwxyz'\n",
    "s=input()\n",
    "for i in apb:\n",
    "    if s.find(i) != -1:\n",
    "        print(s.find(i),end=' ')\n",
    "    else:\n",
    "        print(-1,end=' ')\n",
    "\n",
    "        "
   ]
  },
  {
   "cell_type": "code",
   "execution_count": 19,
   "id": "aa536457",
   "metadata": {},
   "outputs": [
    {
     "name": "stdout",
     "output_type": "stream",
     "text": [
      "2\n",
      "3 ABC\n",
      "AAABBBCCC\n",
      "5 /HTP\n",
      "/////HHHHHTTTTTPPPPP\n"
     ]
    }
   ],
   "source": [
    "#문자열 반복\n",
    "n=int(input())\n",
    "for i in range(n):\n",
    "    a1,a2 = map(str, input().split())\n",
    "    li=[]\n",
    "    for j in a2:\n",
    "        li.append(int(a1)*j)\n",
    "    p=''.join(li)\n",
    "    print(p)"
   ]
  },
  {
   "cell_type": "code",
   "execution_count": 1,
   "id": "4cd4c37d",
   "metadata": {},
   "outputs": [
    {
     "name": "stdout",
     "output_type": "stream",
     "text": [
      "baaa\n",
      "A\n"
     ]
    }
   ],
   "source": [
    "# 단어공부\n",
    "s=input().upper()\n",
    "set_s=set(s)\n",
    "li=[]\n",
    "for i in set_s:\n",
    "    cnt=s.count(i)\n",
    "    li.append(cnt)\n",
    "if li.count(max(li)) ==1:    \n",
    "    num=li.index(max(li))\n",
    "    print(list(set_s)[num])\n",
    "else:\n",
    "    print('?')\n"
   ]
  },
  {
   "cell_type": "code",
   "execution_count": 40,
   "id": "908d1a93",
   "metadata": {},
   "outputs": [
    {
     "name": "stdout",
     "output_type": "stream",
     "text": [
      "The Curious Case of Benjamin Button\n",
      "6\n"
     ]
    }
   ],
   "source": [
    "# 단어의 개수\n",
    "a=map(str,input().split())\n",
    "sum=0\n",
    "for i in a:\n",
    "    sum+=1\n",
    "print(sum)\n",
    "    "
   ]
  },
  {
   "cell_type": "code",
   "execution_count": 45,
   "id": "a44db0b7",
   "metadata": {},
   "outputs": [
    {
     "name": "stdout",
     "output_type": "stream",
     "text": [
      "734 893\n",
      "437\n"
     ]
    }
   ],
   "source": [
    "#상수\n",
    "a,b=map(str,input().split())\n",
    "a=a[::-1]\n",
    "b=b[::-1]\n",
    "if int(a)>int(b):\n",
    "    print(a)\n",
    "else:\n",
    "    print(b)"
   ]
  },
  {
   "cell_type": "code",
   "execution_count": 57,
   "id": "f263b2d6",
   "metadata": {},
   "outputs": [
    {
     "name": "stdout",
     "output_type": "stream",
     "text": [
      "WA\n",
      "13\n"
     ]
    }
   ],
   "source": [
    "#다이얼\n",
    "apb='ABCDEFGHIJKLMNOPQRTUVWXY'\n",
    "s = input()\n",
    "sum=0\n",
    "for i in s:\n",
    "    if i !='S' and i!='Z':\n",
    "        a=(apb.find(i) //3)+3\n",
    "        sum+=a\n",
    "    elif i =='S':\n",
    "        sum+=8\n",
    "    elif i =='Z':\n",
    "        sum+=10\n",
    "print(sum)\n",
    "    "
   ]
  },
  {
   "cell_type": "code",
   "execution_count": null,
   "id": "443b3aa1",
   "metadata": {},
   "outputs": [],
   "source": [
    "#크로아티아 알파벳\n",
    "#다른 사람 코드 참조(영지공지)\n",
    "croatia = ['c=', 'c-', 'dz=', 'd-', 'lj', 'nj', 's=', 'z=']\n",
    "word = input()\n",
    "\n",
    "for i in croatia :\n",
    "    word = word.replace(i, '*')  # input 변수와 동일한 이름의 변수\n",
    "print(len(word))"
   ]
  },
  {
   "cell_type": "code",
   "execution_count": null,
   "id": "7f0f046e",
   "metadata": {},
   "outputs": [],
   "source": []
  },
  {
   "cell_type": "code",
   "execution_count": null,
   "id": "f031af7b",
   "metadata": {},
   "outputs": [],
   "source": [
    "#그룹 단어 체커\n",
    "#다른 사람 코드 참조(영지공지) \n",
    "n = int(input())\n",
    "\n",
    "group_word = 0\n",
    "for _ in range(n):\n",
    "    word = input()\n",
    "    error = 0\n",
    "    for index in range(len(word)-1):  # 인덱스 범위 생성 : 0부터 단어개수 -1까지 \n",
    "        if word[index] != word[index+1]:  # 연달은 두 문자가 다른 때,\n",
    "            new_word = word[index+1:]  # 현재글자 이후 문자열을 새로운 단어로 생성\n",
    "            if new_word.count(word[index]) > 0:  # 남은 문자열에서 현재글자가 있있다면\n",
    "                error += 1  # error에 1씩 증가.\n",
    "    if error == 0:  \n",
    "        group_word += 1  # error가 0이면 그룹단어\n",
    "print(group_word)\n",
    "                "
   ]
  },
  {
   "cell_type": "code",
   "execution_count": null,
   "id": "29eb2929",
   "metadata": {},
   "outputs": [],
   "source": [
    "#그룹 단어 체커\n",
    "#다른 사람 코드 참조(컴공k씨)\n",
    "\n",
    "N = int(input())\n",
    "result = N\n",
    "for i in range(0,N):\n",
    "    word=input()\n",
    "    for j in range(0,len(word)-1):\n",
    "        if word[j]==word[j+1]:\n",
    "            pass\n",
    "        elif word[j] in word[j+1:]:\n",
    "            result-=1\n",
    "            break\n",
    "print(result)"
   ]
  },
  {
   "cell_type": "code",
   "execution_count": null,
   "id": "6764c3d8",
   "metadata": {},
   "outputs": [],
   "source": []
  }
 ],
 "metadata": {
  "kernelspec": {
   "display_name": "Python 3",
   "language": "python",
   "name": "python3"
  },
  "language_info": {
   "codemirror_mode": {
    "name": "ipython",
    "version": 3
   },
   "file_extension": ".py",
   "mimetype": "text/x-python",
   "name": "python",
   "nbconvert_exporter": "python",
   "pygments_lexer": "ipython3",
   "version": "3.8.8"
  }
 },
 "nbformat": 4,
 "nbformat_minor": 5
}
