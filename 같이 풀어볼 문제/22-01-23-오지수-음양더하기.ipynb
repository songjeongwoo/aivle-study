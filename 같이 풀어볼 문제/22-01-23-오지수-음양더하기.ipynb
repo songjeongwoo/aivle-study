{
 "cells": [
  {
   "cell_type": "code",
   "execution_count": null,
   "id": "fb9ec41a",
   "metadata": {},
   "outputs": [],
   "source": [
    "# 음영 더하기\n",
    "def solution(abso, signs):\n",
    "    sum1 = 0\n",
    "    for i,j in zip(abso,signs):\n",
    "        if j == True:\n",
    "            sum1+=i\n",
    "        else :\n",
    "            sum1-=i\n",
    "    return(sum1)\n"
   ]
  }
 ],
 "metadata": {
  "kernelspec": {
   "display_name": "Python 3",
   "language": "python",
   "name": "python3"
  },
  "language_info": {
   "codemirror_mode": {
    "name": "ipython",
    "version": 3
   },
   "file_extension": ".py",
   "mimetype": "text/x-python",
   "name": "python",
   "nbconvert_exporter": "python",
   "pygments_lexer": "ipython3",
   "version": "3.8.8"
  }
 },
 "nbformat": 4,
 "nbformat_minor": 5
}
