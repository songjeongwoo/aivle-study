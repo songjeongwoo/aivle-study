{
 "cells": [
  {
   "cell_type": "code",
   "execution_count": 26,
   "id": "0d9274ac",
   "metadata": {},
   "outputs": [],
   "source": [
    "def solution(n):\n",
    "    a = []\n",
    "    answer = 0\n",
    "    while n > 0:\n",
    "        a.append(n%3)\n",
    "        n = n // 3\n",
    "    #a.append(n)\n",
    "    \n",
    "    for i in range(0, len(a)):\n",
    "        answer += a[i]*3**(len(a)-i-1)\n",
    "    return answer"
   ]
  },
  {
   "cell_type": "code",
   "execution_count": null,
   "id": "4ca7b772",
   "metadata": {},
   "outputs": [],
   "source": []
  }
 ],
 "metadata": {
  "kernelspec": {
   "display_name": "Python 3",
   "language": "python",
   "name": "python3"
  },
  "language_info": {
   "codemirror_mode": {
    "name": "ipython",
    "version": 3
   },
   "file_extension": ".py",
   "mimetype": "text/x-python",
   "name": "python",
   "nbconvert_exporter": "python",
   "pygments_lexer": "ipython3",
   "version": "3.8.8"
  }
 },
 "nbformat": 4,
 "nbformat_minor": 5
}
