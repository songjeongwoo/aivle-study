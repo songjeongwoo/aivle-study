{
 "cells": [
  {
   "cell_type": "code",
   "execution_count": 1,
   "id": "240731c6",
   "metadata": {},
   "outputs": [],
   "source": [
    "from collections import deque\n",
    "\n",
    "def solution(progresses, speeds):\n",
    "    answer = []\n",
    "    progresses = deque(progresses)\n",
    "    speeds = deque(speeds)\n",
    "\n",
    "    \n",
    "    while progresses:\n",
    "        cnt = 0\n",
    "        if progresses[0] >= 100: ## progresses[0]이 100 이상인지 먼저 확인 (맨 앞의 값이 100에 도달할 때까지 뒤의 값 뽑을 수 없음)\n",
    "            for i in range(len(progresses)): \n",
    "                if progresses[0] >= 100: # 100 이상이 되면\n",
    "                    cnt += 1 # cnt 1씩 증가하고\n",
    "                    progresses.popleft()\n",
    "                    speeds.popleft() # 각각 맨 앞의 값 뽑아내줌\n",
    "                else:\n",
    "                    break\n",
    "                    \n",
    "        else :\n",
    "            for j in range(len(progresses)): \n",
    "                progresses[j] += speeds[j] ## 아니라면 progresses[0]이 100이 될때까지 speeds의 각 값을 더해줌\n",
    "                    \n",
    "        if cnt > 0:\n",
    "            answer.append(cnt) # 0이 넘는 값들만 answer에 append\n",
    "\n",
    "    return answer"
   ]
  }
 ],
 "metadata": {
  "kernelspec": {
   "display_name": "Python 3",
   "language": "python",
   "name": "python3"
  },
  "language_info": {
   "codemirror_mode": {
    "name": "ipython",
    "version": 3
   },
   "file_extension": ".py",
   "mimetype": "text/x-python",
   "name": "python",
   "nbconvert_exporter": "python",
   "pygments_lexer": "ipython3",
   "version": "3.8.8"
  },
  "toc": {
   "base_numbering": 1,
   "nav_menu": {},
   "number_sections": true,
   "sideBar": true,
   "skip_h1_title": false,
   "title_cell": "Table of Contents",
   "title_sidebar": "Contents",
   "toc_cell": false,
   "toc_position": {},
   "toc_section_display": true,
   "toc_window_display": false
  }
 },
 "nbformat": 4,
 "nbformat_minor": 5
}
