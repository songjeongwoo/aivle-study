{
 "cells": [
  {
   "cell_type": "code",
   "execution_count": null,
   "id": "f3cd65f0",
   "metadata": {},
   "outputs": [],
   "source": [
    "#약수의 개수와 덧셈\n",
    "def solution(left, right):\n",
    "    sum2=0\n",
    "    for i in range(left,right+1):\n",
    "        sum1=0\n",
    "        for j in range(i):\n",
    "            if i%(j+1)==0:\n",
    "                sum1+=1\n",
    "        if sum1 %2 == 0:\n",
    "            sum2+=i\n",
    "        else:\n",
    "            sum2-=i\n",
    "    return(sum2)"
   ]
  }
 ],
 "metadata": {
  "kernelspec": {
   "display_name": "Python 3",
   "language": "python",
   "name": "python3"
  },
  "language_info": {
   "codemirror_mode": {
    "name": "ipython",
    "version": 3
   },
   "file_extension": ".py",
   "mimetype": "text/x-python",
   "name": "python",
   "nbconvert_exporter": "python",
   "pygments_lexer": "ipython3",
   "version": "3.8.8"
  }
 },
 "nbformat": 4,
 "nbformat_minor": 5
}
