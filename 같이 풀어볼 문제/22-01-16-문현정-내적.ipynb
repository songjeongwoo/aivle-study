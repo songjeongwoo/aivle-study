{
 "cells": [
  {
   "cell_type": "code",
   "execution_count": 1,
   "id": "8b406e12",
   "metadata": {},
   "outputs": [],
   "source": [
    "def solution(a, b):\n",
    "    ans = []\n",
    "    for i in range(0, len(a)):\n",
    "        c = a[i]*b[i]\n",
    "        ans.append(c)\n",
    "    answer = sum(ans)\n",
    "    return answer"
   ]
  }
 ],
 "metadata": {
  "kernelspec": {
   "display_name": "Python 3",
   "language": "python",
   "name": "python3"
  },
  "language_info": {
   "codemirror_mode": {
    "name": "ipython",
    "version": 3
   },
   "file_extension": ".py",
   "mimetype": "text/x-python",
   "name": "python",
   "nbconvert_exporter": "python",
   "pygments_lexer": "ipython3",
   "version": "3.8.8"
  }
 },
 "nbformat": 4,
 "nbformat_minor": 5
}
